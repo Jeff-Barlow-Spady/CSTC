{
  "cells": [
    {
      "cell_type": "markdown",
      "metadata": {
        "id": "8KXgvi9BUAej"
      },
      "source": [
        "# AI for Good Workshop 2025\n",
        "\n",
        "[![image](https://colab.research.google.com/assets/colab-badge.svg)](https://colab.research.google.com/github/opengeos/segment-geospatial/blob/main/docs/workshops/AIforGood_2025.ipynb)\n",
        "\n",
        "Join us for the AI for Good Workshop 2025, part of the UN's [AI for Good](https://aiforgood.itu.int) workshop series! This workshop will take place online on February 5, 2025, from 9:00 AM to 10:30 AM EST. It is free and open to the public. Please register using this link: [Mastering Remote Sensing Image Segmentation with AI: A Hands-On Workshop with the Segment Anything Model](https://aiforgood.itu.int/event/mastering-remote-sensing-image-segmentation-with-ai-a-hands-on-workshop-with-the-segment-anything-model/).\n",
        "\n",
        "## Overview\n",
        "\n",
        "Built upon Meta’s Segment Anything Model ([SAM](https://ai.meta.com/sam2)), the [SAMGeo](https://samgeo.gishub.org) Python package brings advanced segmentation capabilities to geospatial data. This hands-on workshop is tailored for geospatial enthusiasts, researchers, and professionals eager to unlock the potential of GeoAI in their projects.\n",
        "\n",
        "Participants will explore how to leverage SAMGeo for accurate and efficient image segmentation of satellite and aerial imagery. The workshop includes step-by-step demonstrations and practical exercises covering:\n",
        "\n",
        "-   **Introduction to SAM and SAMGeo:** Learn the architecture and functionality of SAM and its transformative applications in geospatial analysis.\n",
        "-   **Data Preparation:** Prepare geospatial datasets with multi-spectral channels for segmentation tasks.\n",
        "-   **Hands-On with SAMGeo:** Leverage SAMGeo to segment geospatial features (e.g., buildings, trees, water bodies) using prompts such as point coordinates, bounding boxes, and text.\n",
        "-   **Postprocessing Techniques:** Calculate geometric properties of segmented features, filter results, and extract meaningful insights.\n",
        "-   **Data Visualization:** Visualize object masks and segmented features in standard geospatial formats for analysis and reporting.\n",
        "\n",
        "By the end of the workshop, participants will gain practical experience applying SAMGeo to real-world geospatial challenges and leave equipped with new tools to elevate their geospatial data workflows.\n",
        "\n",
        "### Target audience\n",
        "\n",
        "This workshop is ideal for geospatial data scientists, remote sensing analysts, researchers, and anyone interested in applying AI to geospatial data.\n",
        "\n",
        "### Prerequisites\n",
        "\n",
        "-   A Google Colab account\n",
        "-   Basic understanding of Python programming and geospatial data concepts is recommended\n",
        "\n",
        "## Recording\n",
        "\n",
        "The recording of the workshop is available on YouTube: <https://www.youtube.com/watch?v=pTlIIr-ZS4s>\n",
        "\n",
        "## Introduction to SAM and SAMGeo\n",
        "\n",
        "The Segment Anything Model ([SAM](https://segment-anything.com)), introduced by Meta AI in April 2023, represents a significant advancement in computer vision, particularly in the field of image segmentation. Designed as a promptable segmentation model, SAM is capable of generating accurate segmentation masks based on various prompts, such as points, bounding boxes, or textual inputs. A notable feature of SAM is its zero-shot transfer ability, allowing it to adapt to new image distributions and tasks without additional training. This adaptability is largely attributed to its training on the extensive [SA-1B dataset](https://ai.meta.com/datasets/segment-anything/), which comprises over 1 billion segmentation masks across 11 million images.\n",
        "\n",
        "Building upon the foundation laid by SAM, Meta AI released Segment Anything Model 2 ([SAM 2](https://ai.meta.com/sam2/)) in August 2024. SAM 2 extends the capabilities of its predecessor by introducing real-time, promptable object segmentation in both images and videos. This unified model achieves state-of-the-art performance, enabling fast and precise selection of any object in any visual context. Key enhancements in SAM 2 include improved accuracy and processing speed, advanced prompting techniques, and the ability to handle video segmentation tasks seamlessly.\n",
        "\n",
        "Building on the success of SAM and SAM 2, the SAMGeo Python package extends these capabilities to geospatial data. SAMGeo empowers users to perform advanced image segmentation tasks on satellite and aerial imagery, enabling the extraction of valuable insights from geospatial datasets. By leveraging the power of SAMGeo, geospatial professionals can streamline their workflows, enhance data analysis, and unlock new possibilities in remote sensing applications.\n",
        "\n",
        "For more information on SAM and SAMGeo, please check out the slides from here: <https://bit.ly/aiforgood-samgeo>.\n",
        "\n",
        "## Environment setup\n",
        "\n",
        "### Install the required packages locally\n",
        "\n",
        "If you are running this notebook locally, you can install the required packages using the following commands:\n",
        "\n",
        "```bash\n",
        "conda create -n sam python=3.12\n",
        "conda activate sam\n",
        "conda install -c conda-forge mamba\n",
        "mamba install -c conda-forge segment-geospatial groundingdino-py gdal\n",
        "```\n",
        "\n",
        "### Use Google Colab\n",
        "\n",
        "If you are using Google Colab, make sure you use GPU runtime for this notebook. Go to `Runtime` -> `Change runtime type` and select `GPU` as the hardware accelerator. Then you can run the following cell to install the required packages."
      ]
    },
    {
      "cell_type": "code",
      "execution_count": 1,
      "metadata": {
        "id": "A3ZR8kV3UAen",
        "outputId": "1ed767fb-f44b-486c-806f-d7a276fc3492",
        "colab": {
          "base_uri": "https://localhost:8080/",
          "height": 1000
        }
      },
      "outputs": [
        {
          "output_type": "stream",
          "name": "stdout",
          "text": [
            "Collecting segment-geospatial\n",
            "  Downloading segment_geospatial-0.12.4-py2.py3-none-any.whl.metadata (11 kB)\n",
            "Collecting groundingdino-py\n",
            "  Downloading groundingdino-py-0.4.0.tar.gz (82 kB)\n",
            "\u001b[?25l     \u001b[90m━━━━━━━━━━━━━━━━━━━━━━━━━━━━━━━━━━━━━━━━\u001b[0m \u001b[32m0.0/82.3 kB\u001b[0m \u001b[31m?\u001b[0m eta \u001b[36m-:--:--\u001b[0m\r\u001b[2K     \u001b[90m━━━━━━━━━━━━━━━━━━━━━━━━━━━━━━━━━━━━━━━━\u001b[0m \u001b[32m82.3/82.3 kB\u001b[0m \u001b[31m3.5 MB/s\u001b[0m eta \u001b[36m0:00:00\u001b[0m\n",
            "\u001b[?25h  Preparing metadata (setup.py) ... \u001b[?25l\u001b[?25hdone\n",
            "Collecting fiona (from segment-geospatial)\n",
            "  Downloading fiona-1.10.1-cp311-cp311-manylinux_2_17_x86_64.manylinux2014_x86_64.whl.metadata (56 kB)\n",
            "\u001b[2K     \u001b[90m━━━━━━━━━━━━━━━━━━━━━━━━━━━━━━━━━━━━━━━━\u001b[0m \u001b[32m56.6/56.6 kB\u001b[0m \u001b[31m4.8 MB/s\u001b[0m eta \u001b[36m0:00:00\u001b[0m\n",
            "\u001b[?25hRequirement already satisfied: gdown in /usr/local/lib/python3.11/dist-packages (from segment-geospatial) (5.2.0)\n",
            "Requirement already satisfied: geopandas in /usr/local/lib/python3.11/dist-packages (from segment-geospatial) (1.0.1)\n",
            "Requirement already satisfied: huggingface_hub in /usr/local/lib/python3.11/dist-packages (from segment-geospatial) (0.28.1)\n",
            "Collecting ipympl (from segment-geospatial)\n",
            "  Downloading ipympl-0.9.7-py3-none-any.whl.metadata (8.7 kB)\n",
            "Collecting leafmap (from segment-geospatial)\n",
            "  Downloading leafmap-0.42.13-py2.py3-none-any.whl.metadata (16 kB)\n",
            "Collecting localtileserver (from segment-geospatial)\n",
            "  Downloading localtileserver-0.10.6-py3-none-any.whl.metadata (5.2 kB)\n",
            "Requirement already satisfied: matplotlib in /usr/local/lib/python3.11/dist-packages (from segment-geospatial) (3.10.0)\n",
            "Requirement already satisfied: opencv-python-headless in /usr/local/lib/python3.11/dist-packages (from segment-geospatial) (4.11.0.86)\n",
            "Collecting patool (from segment-geospatial)\n",
            "  Downloading patool-4.0.0-py2.py3-none-any.whl.metadata (4.5 kB)\n",
            "Requirement already satisfied: pycocotools in /usr/local/lib/python3.11/dist-packages (from segment-geospatial) (2.0.8)\n",
            "Requirement already satisfied: pyproj in /usr/local/lib/python3.11/dist-packages (from segment-geospatial) (3.7.1)\n",
            "Collecting rasterio (from segment-geospatial)\n",
            "  Downloading rasterio-1.4.3-cp311-cp311-manylinux_2_17_x86_64.manylinux2014_x86_64.whl.metadata (9.1 kB)\n",
            "Collecting rioxarray (from segment-geospatial)\n",
            "  Downloading rioxarray-0.18.2-py3-none-any.whl.metadata (5.4 kB)\n",
            "Collecting sam2 (from segment-geospatial)\n",
            "  Downloading sam2-1.1.0.tar.gz (152 kB)\n",
            "\u001b[2K     \u001b[90m━━━━━━━━━━━━━━━━━━━━━━━━━━━━━━━━━━━━━━━━\u001b[0m \u001b[32m152.8/152.8 kB\u001b[0m \u001b[31m10.5 MB/s\u001b[0m eta \u001b[36m0:00:00\u001b[0m\n",
            "\u001b[?25h  Installing build dependencies ... \u001b[?25l\u001b[?25hdone\n",
            "  Getting requirements to build wheel ... \u001b[?25l\u001b[?25hdone\n",
            "  Preparing metadata (pyproject.toml) ... \u001b[?25l\u001b[?25hdone\n",
            "Requirement already satisfied: scikit-image in /usr/local/lib/python3.11/dist-packages (from segment-geospatial) (0.25.2)\n",
            "Requirement already satisfied: scikit-learn in /usr/local/lib/python3.11/dist-packages (from segment-geospatial) (1.6.1)\n",
            "Collecting segment-anything-hq (from segment-geospatial)\n",
            "  Downloading segment_anything_hq-0.3-py3-none-any.whl.metadata (17 kB)\n",
            "Collecting segment-anything-py (from segment-geospatial)\n",
            "  Downloading segment_anything_py-1.0.1-py3-none-any.whl.metadata (11 kB)\n",
            "Requirement already satisfied: timm in /usr/local/lib/python3.11/dist-packages (from segment-geospatial) (1.0.15)\n",
            "Requirement already satisfied: tqdm in /usr/local/lib/python3.11/dist-packages (from segment-geospatial) (4.67.1)\n",
            "Requirement already satisfied: xarray in /usr/local/lib/python3.11/dist-packages (from segment-geospatial) (2025.1.2)\n",
            "Requirement already satisfied: xyzservices in /usr/local/lib/python3.11/dist-packages (from segment-geospatial) (2025.1.0)\n",
            "Requirement already satisfied: torch in /usr/local/lib/python3.11/dist-packages (from groundingdino-py) (2.5.1+cu124)\n",
            "Requirement already satisfied: torchvision in /usr/local/lib/python3.11/dist-packages (from groundingdino-py) (0.20.1+cu124)\n",
            "Requirement already satisfied: transformers in /usr/local/lib/python3.11/dist-packages (from groundingdino-py) (4.48.3)\n",
            "Collecting addict (from groundingdino-py)\n",
            "  Downloading addict-2.4.0-py3-none-any.whl.metadata (1.0 kB)\n",
            "Collecting yapf (from groundingdino-py)\n",
            "  Downloading yapf-0.43.0-py3-none-any.whl.metadata (46 kB)\n",
            "\u001b[2K     \u001b[90m━━━━━━━━━━━━━━━━━━━━━━━━━━━━━━━━━━━━━━━━\u001b[0m \u001b[32m46.8/46.8 kB\u001b[0m \u001b[31m4.0 MB/s\u001b[0m eta \u001b[36m0:00:00\u001b[0m\n",
            "\u001b[?25hRequirement already satisfied: numpy in /usr/local/lib/python3.11/dist-packages (from groundingdino-py) (1.26.4)\n",
            "Requirement already satisfied: opencv-python in /usr/local/lib/python3.11/dist-packages (from groundingdino-py) (4.11.0.86)\n",
            "Collecting supervision==0.6.0 (from groundingdino-py)\n",
            "  Downloading supervision-0.6.0-py3-none-any.whl.metadata (6.2 kB)\n",
            "Requirement already satisfied: attrs>=19.2.0 in /usr/local/lib/python3.11/dist-packages (from fiona->segment-geospatial) (25.1.0)\n",
            "Requirement already satisfied: certifi in /usr/local/lib/python3.11/dist-packages (from fiona->segment-geospatial) (2025.1.31)\n",
            "Requirement already satisfied: click~=8.0 in /usr/local/lib/python3.11/dist-packages (from fiona->segment-geospatial) (8.1.8)\n",
            "Collecting click-plugins>=1.0 (from fiona->segment-geospatial)\n",
            "  Downloading click_plugins-1.1.1-py2.py3-none-any.whl.metadata (6.4 kB)\n",
            "Collecting cligj>=0.5 (from fiona->segment-geospatial)\n",
            "  Downloading cligj-0.7.2-py3-none-any.whl.metadata (5.0 kB)\n",
            "Requirement already satisfied: beautifulsoup4 in /usr/local/lib/python3.11/dist-packages (from gdown->segment-geospatial) (4.13.3)\n",
            "Requirement already satisfied: filelock in /usr/local/lib/python3.11/dist-packages (from gdown->segment-geospatial) (3.17.0)\n",
            "Requirement already satisfied: requests[socks] in /usr/local/lib/python3.11/dist-packages (from gdown->segment-geospatial) (2.32.3)\n",
            "Requirement already satisfied: pyogrio>=0.7.2 in /usr/local/lib/python3.11/dist-packages (from geopandas->segment-geospatial) (0.10.0)\n",
            "Requirement already satisfied: packaging in /usr/local/lib/python3.11/dist-packages (from geopandas->segment-geospatial) (24.2)\n",
            "Requirement already satisfied: pandas>=1.4.0 in /usr/local/lib/python3.11/dist-packages (from geopandas->segment-geospatial) (2.2.2)\n",
            "Requirement already satisfied: shapely>=2.0.0 in /usr/local/lib/python3.11/dist-packages (from geopandas->segment-geospatial) (2.0.7)\n",
            "Requirement already satisfied: fsspec>=2023.5.0 in /usr/local/lib/python3.11/dist-packages (from huggingface_hub->segment-geospatial) (2024.10.0)\n",
            "Requirement already satisfied: pyyaml>=5.1 in /usr/local/lib/python3.11/dist-packages (from huggingface_hub->segment-geospatial) (6.0.2)\n",
            "Requirement already satisfied: typing-extensions>=3.7.4.3 in /usr/local/lib/python3.11/dist-packages (from huggingface_hub->segment-geospatial) (4.12.2)\n",
            "Requirement already satisfied: ipython<10 in /usr/local/lib/python3.11/dist-packages (from ipympl->segment-geospatial) (7.34.0)\n",
            "Requirement already satisfied: ipywidgets<9,>=7.6.0 in /usr/local/lib/python3.11/dist-packages (from ipympl->segment-geospatial) (7.7.1)\n",
            "Requirement already satisfied: pillow in /usr/local/lib/python3.11/dist-packages (from ipympl->segment-geospatial) (11.1.0)\n",
            "Requirement already satisfied: traitlets<6 in /usr/local/lib/python3.11/dist-packages (from ipympl->segment-geospatial) (5.7.1)\n",
            "Requirement already satisfied: contourpy>=1.0.1 in /usr/local/lib/python3.11/dist-packages (from matplotlib->segment-geospatial) (1.3.1)\n",
            "Requirement already satisfied: cycler>=0.10 in /usr/local/lib/python3.11/dist-packages (from matplotlib->segment-geospatial) (0.12.1)\n",
            "Requirement already satisfied: fonttools>=4.22.0 in /usr/local/lib/python3.11/dist-packages (from matplotlib->segment-geospatial) (4.56.0)\n",
            "Requirement already satisfied: kiwisolver>=1.3.1 in /usr/local/lib/python3.11/dist-packages (from matplotlib->segment-geospatial) (1.4.8)\n",
            "Requirement already satisfied: pyparsing>=2.3.1 in /usr/local/lib/python3.11/dist-packages (from matplotlib->segment-geospatial) (3.2.1)\n",
            "Requirement already satisfied: python-dateutil>=2.7 in /usr/local/lib/python3.11/dist-packages (from matplotlib->segment-geospatial) (2.8.2)\n",
            "Collecting anywidget (from leafmap->segment-geospatial)\n",
            "  Downloading anywidget-0.9.15-py3-none-any.whl.metadata (8.9 kB)\n",
            "Requirement already satisfied: bqplot in /usr/local/lib/python3.11/dist-packages (from leafmap->segment-geospatial) (0.12.44)\n",
            "Requirement already satisfied: colour in /usr/local/lib/python3.11/dist-packages (from leafmap->segment-geospatial) (0.1.5)\n",
            "Requirement already satisfied: duckdb in /usr/local/lib/python3.11/dist-packages (from leafmap->segment-geospatial) (1.1.3)\n",
            "Requirement already satisfied: folium in /usr/local/lib/python3.11/dist-packages (from leafmap->segment-geospatial) (0.19.5)\n",
            "Collecting geojson (from leafmap->segment-geospatial)\n",
            "  Downloading geojson-3.2.0-py3-none-any.whl.metadata (16 kB)\n",
            "Requirement already satisfied: ipyevents in /usr/local/lib/python3.11/dist-packages (from leafmap->segment-geospatial) (2.0.2)\n",
            "Requirement already satisfied: ipyfilechooser in /usr/local/lib/python3.11/dist-packages (from leafmap->segment-geospatial) (0.6.0)\n",
            "Requirement already satisfied: ipyleaflet in /usr/local/lib/python3.11/dist-packages (from leafmap->segment-geospatial) (0.19.2)\n",
            "Collecting ipyvuetify (from leafmap->segment-geospatial)\n",
            "  Downloading ipyvuetify-1.11.1-py2.py3-none-any.whl.metadata (7.5 kB)\n",
            "Requirement already satisfied: plotly in /usr/local/lib/python3.11/dist-packages (from leafmap->segment-geospatial) (5.24.1)\n",
            "Requirement already satisfied: psutil in /usr/local/lib/python3.11/dist-packages (from leafmap->segment-geospatial) (5.9.5)\n",
            "Requirement already satisfied: pyshp in /usr/local/lib/python3.11/dist-packages (from leafmap->segment-geospatial) (2.3.1)\n",
            "Collecting pystac-client (from leafmap->segment-geospatial)\n",
            "  Downloading pystac_client-0.8.6-py3-none-any.whl.metadata (3.0 kB)\n",
            "Requirement already satisfied: python-box in /usr/local/lib/python3.11/dist-packages (from leafmap->segment-geospatial) (7.3.2)\n",
            "Requirement already satisfied: scooby in /usr/local/lib/python3.11/dist-packages (from leafmap->segment-geospatial) (0.10.0)\n",
            "Collecting whiteboxgui (from leafmap->segment-geospatial)\n",
            "  Downloading whiteboxgui-2.3.0-py2.py3-none-any.whl.metadata (5.7 kB)\n",
            "Requirement already satisfied: flask<4,>=2.0.0 in /usr/local/lib/python3.11/dist-packages (from localtileserver->segment-geospatial) (3.1.0)\n",
            "Collecting Flask-Caching (from localtileserver->segment-geospatial)\n",
            "  Downloading Flask_Caching-2.3.1-py3-none-any.whl.metadata (2.2 kB)\n",
            "Collecting flask-cors (from localtileserver->segment-geospatial)\n",
            "  Downloading flask_cors-5.0.1-py3-none-any.whl.metadata (961 bytes)\n",
            "Collecting flask-restx>=1.3.0 (from localtileserver->segment-geospatial)\n",
            "  Downloading flask_restx-1.3.0-py2.py3-none-any.whl.metadata (9.3 kB)\n",
            "Collecting rio-tiler (from localtileserver->segment-geospatial)\n",
            "  Downloading rio_tiler-7.5.0-py3-none-any.whl.metadata (12 kB)\n",
            "Collecting rio-cogeo (from localtileserver->segment-geospatial)\n",
            "  Downloading rio_cogeo-5.4.1-py3-none-any.whl.metadata (4.7 kB)\n",
            "Collecting server-thread (from localtileserver->segment-geospatial)\n",
            "  Downloading server_thread-0.3.0-py3-none-any.whl.metadata (5.3 kB)\n",
            "Requirement already satisfied: werkzeug in /usr/local/lib/python3.11/dist-packages (from localtileserver->segment-geospatial) (3.1.3)\n",
            "Collecting affine (from rasterio->segment-geospatial)\n",
            "  Downloading affine-2.4.0-py3-none-any.whl.metadata (4.0 kB)\n",
            "Collecting hydra-core>=1.3.2 (from sam2->segment-geospatial)\n",
            "  Downloading hydra_core-1.3.2-py3-none-any.whl.metadata (5.5 kB)\n",
            "Collecting iopath>=0.1.10 (from sam2->segment-geospatial)\n",
            "  Downloading iopath-0.1.10.tar.gz (42 kB)\n",
            "\u001b[2K     \u001b[90m━━━━━━━━━━━━━━━━━━━━━━━━━━━━━━━━━━━━━━━━\u001b[0m \u001b[32m42.2/42.2 kB\u001b[0m \u001b[31m3.6 MB/s\u001b[0m eta \u001b[36m0:00:00\u001b[0m\n",
            "\u001b[?25h  Preparing metadata (setup.py) ... \u001b[?25l\u001b[?25hdone\n",
            "Requirement already satisfied: networkx in /usr/local/lib/python3.11/dist-packages (from torch->groundingdino-py) (3.4.2)\n",
            "Requirement already satisfied: jinja2 in /usr/local/lib/python3.11/dist-packages (from torch->groundingdino-py) (3.1.6)\n",
            "Collecting nvidia-cuda-nvrtc-cu12==12.4.127 (from torch->groundingdino-py)\n",
            "  Using cached nvidia_cuda_nvrtc_cu12-12.4.127-py3-none-manylinux2014_x86_64.whl.metadata (1.5 kB)\n",
            "Collecting nvidia-cuda-runtime-cu12==12.4.127 (from torch->groundingdino-py)\n",
            "  Using cached nvidia_cuda_runtime_cu12-12.4.127-py3-none-manylinux2014_x86_64.whl.metadata (1.5 kB)\n",
            "Collecting nvidia-cuda-cupti-cu12==12.4.127 (from torch->groundingdino-py)\n",
            "  Using cached nvidia_cuda_cupti_cu12-12.4.127-py3-none-manylinux2014_x86_64.whl.metadata (1.6 kB)\n",
            "Collecting nvidia-cudnn-cu12==9.1.0.70 (from torch->groundingdino-py)\n",
            "  Using cached nvidia_cudnn_cu12-9.1.0.70-py3-none-manylinux2014_x86_64.whl.metadata (1.6 kB)\n",
            "Collecting nvidia-cublas-cu12==12.4.5.8 (from torch->groundingdino-py)\n",
            "  Using cached nvidia_cublas_cu12-12.4.5.8-py3-none-manylinux2014_x86_64.whl.metadata (1.5 kB)\n",
            "Collecting nvidia-cufft-cu12==11.2.1.3 (from torch->groundingdino-py)\n",
            "  Using cached nvidia_cufft_cu12-11.2.1.3-py3-none-manylinux2014_x86_64.whl.metadata (1.5 kB)\n",
            "Collecting nvidia-curand-cu12==10.3.5.147 (from torch->groundingdino-py)\n",
            "  Using cached nvidia_curand_cu12-10.3.5.147-py3-none-manylinux2014_x86_64.whl.metadata (1.5 kB)\n",
            "Collecting nvidia-cusolver-cu12==11.6.1.9 (from torch->groundingdino-py)\n",
            "  Using cached nvidia_cusolver_cu12-11.6.1.9-py3-none-manylinux2014_x86_64.whl.metadata (1.6 kB)\n",
            "Collecting nvidia-cusparse-cu12==12.3.1.170 (from torch->groundingdino-py)\n",
            "  Using cached nvidia_cusparse_cu12-12.3.1.170-py3-none-manylinux2014_x86_64.whl.metadata (1.6 kB)\n",
            "Requirement already satisfied: nvidia-nccl-cu12==2.21.5 in /usr/local/lib/python3.11/dist-packages (from torch->groundingdino-py) (2.21.5)\n",
            "Requirement already satisfied: nvidia-nvtx-cu12==12.4.127 in /usr/local/lib/python3.11/dist-packages (from torch->groundingdino-py) (12.4.127)\n",
            "Collecting nvidia-nvjitlink-cu12==12.4.127 (from torch->groundingdino-py)\n",
            "  Using cached nvidia_nvjitlink_cu12-12.4.127-py3-none-manylinux2014_x86_64.whl.metadata (1.5 kB)\n",
            "Requirement already satisfied: triton==3.1.0 in /usr/local/lib/python3.11/dist-packages (from torch->groundingdino-py) (3.1.0)\n",
            "Requirement already satisfied: sympy==1.13.1 in /usr/local/lib/python3.11/dist-packages (from torch->groundingdino-py) (1.13.1)\n",
            "Requirement already satisfied: mpmath<1.4,>=1.1.0 in /usr/local/lib/python3.11/dist-packages (from sympy==1.13.1->torch->groundingdino-py) (1.3.0)\n",
            "Requirement already satisfied: scipy>=1.11.4 in /usr/local/lib/python3.11/dist-packages (from scikit-image->segment-geospatial) (1.14.1)\n",
            "Requirement already satisfied: imageio!=2.35.0,>=2.33 in /usr/local/lib/python3.11/dist-packages (from scikit-image->segment-geospatial) (2.37.0)\n",
            "Requirement already satisfied: tifffile>=2022.8.12 in /usr/local/lib/python3.11/dist-packages (from scikit-image->segment-geospatial) (2025.2.18)\n",
            "Requirement already satisfied: lazy-loader>=0.4 in /usr/local/lib/python3.11/dist-packages (from scikit-image->segment-geospatial) (0.4)\n",
            "Requirement already satisfied: joblib>=1.2.0 in /usr/local/lib/python3.11/dist-packages (from scikit-learn->segment-geospatial) (1.4.2)\n",
            "Requirement already satisfied: threadpoolctl>=3.1.0 in /usr/local/lib/python3.11/dist-packages (from scikit-learn->segment-geospatial) (3.5.0)\n",
            "Requirement already satisfied: safetensors in /usr/local/lib/python3.11/dist-packages (from timm->segment-geospatial) (0.5.3)\n",
            "Requirement already satisfied: regex!=2019.12.17 in /usr/local/lib/python3.11/dist-packages (from transformers->groundingdino-py) (2024.11.6)\n",
            "Requirement already satisfied: tokenizers<0.22,>=0.21 in /usr/local/lib/python3.11/dist-packages (from transformers->groundingdino-py) (0.21.0)\n",
            "Requirement already satisfied: platformdirs>=3.5.1 in /usr/local/lib/python3.11/dist-packages (from yapf->groundingdino-py) (4.3.6)\n",
            "Requirement already satisfied: itsdangerous>=2.2 in /usr/local/lib/python3.11/dist-packages (from flask<4,>=2.0.0->localtileserver->segment-geospatial) (2.2.0)\n",
            "Requirement already satisfied: blinker>=1.9 in /usr/local/lib/python3.11/dist-packages (from flask<4,>=2.0.0->localtileserver->segment-geospatial) (1.9.0)\n",
            "Collecting aniso8601>=0.82 (from flask-restx>=1.3.0->localtileserver->segment-geospatial)\n",
            "  Downloading aniso8601-10.0.0-py2.py3-none-any.whl.metadata (23 kB)\n",
            "Requirement already satisfied: jsonschema in /usr/local/lib/python3.11/dist-packages (from flask-restx>=1.3.0->localtileserver->segment-geospatial) (4.23.0)\n",
            "Requirement already satisfied: pytz in /usr/local/lib/python3.11/dist-packages (from flask-restx>=1.3.0->localtileserver->segment-geospatial) (2025.1)\n",
            "Requirement already satisfied: importlib-resources in /usr/local/lib/python3.11/dist-packages (from flask-restx>=1.3.0->localtileserver->segment-geospatial) (6.5.2)\n",
            "Collecting omegaconf<2.4,>=2.2 (from hydra-core>=1.3.2->sam2->segment-geospatial)\n",
            "  Downloading omegaconf-2.3.0-py3-none-any.whl.metadata (3.9 kB)\n",
            "Collecting antlr4-python3-runtime==4.9.* (from hydra-core>=1.3.2->sam2->segment-geospatial)\n",
            "  Downloading antlr4-python3-runtime-4.9.3.tar.gz (117 kB)\n",
            "\u001b[2K     \u001b[90m━━━━━━━━━━━━━━━━━━━━━━━━━━━━━━━━━━━━━━━━\u001b[0m \u001b[32m117.0/117.0 kB\u001b[0m \u001b[31m11.8 MB/s\u001b[0m eta \u001b[36m0:00:00\u001b[0m\n",
            "\u001b[?25h  Preparing metadata (setup.py) ... \u001b[?25l\u001b[?25hdone\n",
            "Collecting portalocker (from iopath>=0.1.10->sam2->segment-geospatial)\n",
            "  Downloading portalocker-3.1.1-py3-none-any.whl.metadata (8.6 kB)\n",
            "Requirement already satisfied: setuptools>=18.5 in /usr/local/lib/python3.11/dist-packages (from ipython<10->ipympl->segment-geospatial) (75.1.0)\n",
            "Collecting jedi>=0.16 (from ipython<10->ipympl->segment-geospatial)\n",
            "  Downloading jedi-0.19.2-py2.py3-none-any.whl.metadata (22 kB)\n",
            "Requirement already satisfied: decorator in /usr/local/lib/python3.11/dist-packages (from ipython<10->ipympl->segment-geospatial) (4.4.2)\n",
            "Requirement already satisfied: pickleshare in /usr/local/lib/python3.11/dist-packages (from ipython<10->ipympl->segment-geospatial) (0.7.5)\n",
            "Requirement already satisfied: prompt-toolkit!=3.0.0,!=3.0.1,<3.1.0,>=2.0.0 in /usr/local/lib/python3.11/dist-packages (from ipython<10->ipympl->segment-geospatial) (3.0.50)\n",
            "Requirement already satisfied: pygments in /usr/local/lib/python3.11/dist-packages (from ipython<10->ipympl->segment-geospatial) (2.18.0)\n",
            "Requirement already satisfied: backcall in /usr/local/lib/python3.11/dist-packages (from ipython<10->ipympl->segment-geospatial) (0.2.0)\n",
            "Requirement already satisfied: matplotlib-inline in /usr/local/lib/python3.11/dist-packages (from ipython<10->ipympl->segment-geospatial) (0.1.7)\n",
            "Requirement already satisfied: pexpect>4.3 in /usr/local/lib/python3.11/dist-packages (from ipython<10->ipympl->segment-geospatial) (4.9.0)\n",
            "Requirement already satisfied: ipykernel>=4.5.1 in /usr/local/lib/python3.11/dist-packages (from ipywidgets<9,>=7.6.0->ipympl->segment-geospatial) (6.17.1)\n",
            "Requirement already satisfied: ipython-genutils~=0.2.0 in /usr/local/lib/python3.11/dist-packages (from ipywidgets<9,>=7.6.0->ipympl->segment-geospatial) (0.2.0)\n",
            "Requirement already satisfied: widgetsnbextension~=3.6.0 in /usr/local/lib/python3.11/dist-packages (from ipywidgets<9,>=7.6.0->ipympl->segment-geospatial) (3.6.10)\n",
            "Requirement already satisfied: jupyterlab-widgets>=1.0.0 in /usr/local/lib/python3.11/dist-packages (from ipywidgets<9,>=7.6.0->ipympl->segment-geospatial) (3.0.13)\n",
            "Requirement already satisfied: MarkupSafe>=2.0 in /usr/local/lib/python3.11/dist-packages (from jinja2->torch->groundingdino-py) (3.0.2)\n",
            "Requirement already satisfied: tzdata>=2022.7 in /usr/local/lib/python3.11/dist-packages (from pandas>=1.4.0->geopandas->segment-geospatial) (2025.1)\n",
            "Requirement already satisfied: six>=1.5 in /usr/local/lib/python3.11/dist-packages (from python-dateutil>=2.7->matplotlib->segment-geospatial) (1.17.0)\n",
            "Collecting psygnal>=0.8.1 (from anywidget->leafmap->segment-geospatial)\n",
            "  Downloading psygnal-0.12.0-cp311-cp311-manylinux_2_17_x86_64.manylinux2014_x86_64.whl.metadata (7.7 kB)\n",
            "Requirement already satisfied: soupsieve>1.2 in /usr/local/lib/python3.11/dist-packages (from beautifulsoup4->gdown->segment-geospatial) (2.6)\n",
            "Requirement already satisfied: traittypes>=0.0.6 in /usr/local/lib/python3.11/dist-packages (from bqplot->leafmap->segment-geospatial) (0.2.1)\n",
            "Collecting cachelib>=0.9.0 (from Flask-Caching->localtileserver->segment-geospatial)\n",
            "  Downloading cachelib-0.13.0-py3-none-any.whl.metadata (2.0 kB)\n",
            "Requirement already satisfied: branca>=0.6.0 in /usr/local/lib/python3.11/dist-packages (from folium->leafmap->segment-geospatial) (0.8.1)\n",
            "Requirement already satisfied: jupyter-leaflet<0.20,>=0.19 in /usr/local/lib/python3.11/dist-packages (from ipyleaflet->leafmap->segment-geospatial) (0.19.2)\n",
            "Collecting ipyvue<2,>=1.7 (from ipyvuetify->leafmap->segment-geospatial)\n",
            "  Downloading ipyvue-1.11.2-py2.py3-none-any.whl.metadata (1.1 kB)\n",
            "Requirement already satisfied: tenacity>=6.2.0 in /usr/local/lib/python3.11/dist-packages (from plotly->leafmap->segment-geospatial) (9.0.0)\n",
            "Collecting pystac>=1.10.0 (from pystac[validation]>=1.10.0->pystac-client->leafmap->segment-geospatial)\n",
            "  Downloading pystac-1.12.2-py3-none-any.whl.metadata (4.6 kB)\n",
            "Requirement already satisfied: charset-normalizer<4,>=2 in /usr/local/lib/python3.11/dist-packages (from requests[socks]->gdown->segment-geospatial) (3.4.1)\n",
            "Requirement already satisfied: idna<4,>=2.5 in /usr/local/lib/python3.11/dist-packages (from requests[socks]->gdown->segment-geospatial) (3.10)\n",
            "Requirement already satisfied: urllib3<3,>=1.21.1 in /usr/local/lib/python3.11/dist-packages (from requests[socks]->gdown->segment-geospatial) (2.3.0)\n",
            "Requirement already satisfied: PySocks!=1.5.7,>=1.5.6 in /usr/local/lib/python3.11/dist-packages (from requests[socks]->gdown->segment-geospatial) (1.7.1)\n",
            "Collecting morecantile<7.0,>=5.0 (from rio-cogeo->localtileserver->segment-geospatial)\n",
            "  Downloading morecantile-6.2.0-py3-none-any.whl.metadata (7.3 kB)\n",
            "Requirement already satisfied: pydantic~=2.0 in /usr/local/lib/python3.11/dist-packages (from rio-cogeo->localtileserver->segment-geospatial) (2.10.6)\n",
            "Requirement already satisfied: cachetools in /usr/local/lib/python3.11/dist-packages (from rio-tiler->localtileserver->segment-geospatial) (5.5.2)\n",
            "Collecting color-operations (from rio-tiler->localtileserver->segment-geospatial)\n",
            "  Downloading color_operations-0.1.6-cp311-cp311-manylinux_2_5_x86_64.manylinux1_x86_64.manylinux_2_17_x86_64.manylinux2014_x86_64.whl.metadata (6.0 kB)\n",
            "Requirement already satisfied: httpx in /usr/local/lib/python3.11/dist-packages (from rio-tiler->localtileserver->segment-geospatial) (0.28.1)\n",
            "Requirement already satisfied: numexpr in /usr/local/lib/python3.11/dist-packages (from rio-tiler->localtileserver->segment-geospatial) (2.10.2)\n",
            "Collecting uvicorn (from server-thread->localtileserver->segment-geospatial)\n",
            "  Downloading uvicorn-0.34.0-py3-none-any.whl.metadata (6.5 kB)\n",
            "Requirement already satisfied: ipytree in /usr/local/lib/python3.11/dist-packages (from whiteboxgui->leafmap->segment-geospatial) (0.2.2)\n",
            "Collecting whitebox (from whiteboxgui->leafmap->segment-geospatial)\n",
            "  Downloading whitebox-2.3.6-py2.py3-none-any.whl.metadata (11 kB)\n",
            "Requirement already satisfied: debugpy>=1.0 in /usr/local/lib/python3.11/dist-packages (from ipykernel>=4.5.1->ipywidgets<9,>=7.6.0->ipympl->segment-geospatial) (1.8.0)\n",
            "Requirement already satisfied: jupyter-client>=6.1.12 in /usr/local/lib/python3.11/dist-packages (from ipykernel>=4.5.1->ipywidgets<9,>=7.6.0->ipympl->segment-geospatial) (6.1.12)\n",
            "Requirement already satisfied: nest-asyncio in /usr/local/lib/python3.11/dist-packages (from ipykernel>=4.5.1->ipywidgets<9,>=7.6.0->ipympl->segment-geospatial) (1.6.0)\n",
            "Requirement already satisfied: pyzmq>=17 in /usr/local/lib/python3.11/dist-packages (from ipykernel>=4.5.1->ipywidgets<9,>=7.6.0->ipympl->segment-geospatial) (24.0.1)\n",
            "Requirement already satisfied: tornado>=6.1 in /usr/local/lib/python3.11/dist-packages (from ipykernel>=4.5.1->ipywidgets<9,>=7.6.0->ipympl->segment-geospatial) (6.4.2)\n",
            "Requirement already satisfied: parso<0.9.0,>=0.8.4 in /usr/local/lib/python3.11/dist-packages (from jedi>=0.16->ipython<10->ipympl->segment-geospatial) (0.8.4)\n",
            "Requirement already satisfied: ptyprocess>=0.5 in /usr/local/lib/python3.11/dist-packages (from pexpect>4.3->ipython<10->ipympl->segment-geospatial) (0.7.0)\n",
            "Requirement already satisfied: wcwidth in /usr/local/lib/python3.11/dist-packages (from prompt-toolkit!=3.0.0,!=3.0.1,<3.1.0,>=2.0.0->ipython<10->ipympl->segment-geospatial) (0.2.13)\n",
            "Requirement already satisfied: annotated-types>=0.6.0 in /usr/local/lib/python3.11/dist-packages (from pydantic~=2.0->rio-cogeo->localtileserver->segment-geospatial) (0.7.0)\n",
            "Requirement already satisfied: pydantic-core==2.27.2 in /usr/local/lib/python3.11/dist-packages (from pydantic~=2.0->rio-cogeo->localtileserver->segment-geospatial) (2.27.2)\n",
            "Requirement already satisfied: jsonschema-specifications>=2023.03.6 in /usr/local/lib/python3.11/dist-packages (from jsonschema->flask-restx>=1.3.0->localtileserver->segment-geospatial) (2024.10.1)\n",
            "Requirement already satisfied: referencing>=0.28.4 in /usr/local/lib/python3.11/dist-packages (from jsonschema->flask-restx>=1.3.0->localtileserver->segment-geospatial) (0.36.2)\n",
            "Requirement already satisfied: rpds-py>=0.7.1 in /usr/local/lib/python3.11/dist-packages (from jsonschema->flask-restx>=1.3.0->localtileserver->segment-geospatial) (0.23.1)\n",
            "Requirement already satisfied: notebook>=4.4.1 in /usr/local/lib/python3.11/dist-packages (from widgetsnbextension~=3.6.0->ipywidgets<9,>=7.6.0->ipympl->segment-geospatial) (6.5.5)\n",
            "Requirement already satisfied: anyio in /usr/local/lib/python3.11/dist-packages (from httpx->rio-tiler->localtileserver->segment-geospatial) (3.7.1)\n",
            "Requirement already satisfied: httpcore==1.* in /usr/local/lib/python3.11/dist-packages (from httpx->rio-tiler->localtileserver->segment-geospatial) (1.0.7)\n",
            "Requirement already satisfied: h11<0.15,>=0.13 in /usr/local/lib/python3.11/dist-packages (from httpcore==1.*->httpx->rio-tiler->localtileserver->segment-geospatial) (0.14.0)\n",
            "Requirement already satisfied: jupyter-core>=4.6.0 in /usr/local/lib/python3.11/dist-packages (from jupyter-client>=6.1.12->ipykernel>=4.5.1->ipywidgets<9,>=7.6.0->ipympl->segment-geospatial) (5.7.2)\n",
            "Requirement already satisfied: argon2-cffi in /usr/local/lib/python3.11/dist-packages (from notebook>=4.4.1->widgetsnbextension~=3.6.0->ipywidgets<9,>=7.6.0->ipympl->segment-geospatial) (23.1.0)\n",
            "Requirement already satisfied: nbformat in /usr/local/lib/python3.11/dist-packages (from notebook>=4.4.1->widgetsnbextension~=3.6.0->ipywidgets<9,>=7.6.0->ipympl->segment-geospatial) (5.10.4)\n",
            "Requirement already satisfied: nbconvert>=5 in /usr/local/lib/python3.11/dist-packages (from notebook>=4.4.1->widgetsnbextension~=3.6.0->ipywidgets<9,>=7.6.0->ipympl->segment-geospatial) (7.16.6)\n",
            "Requirement already satisfied: Send2Trash>=1.8.0 in /usr/local/lib/python3.11/dist-packages (from notebook>=4.4.1->widgetsnbextension~=3.6.0->ipywidgets<9,>=7.6.0->ipympl->segment-geospatial) (1.8.3)\n",
            "Requirement already satisfied: terminado>=0.8.3 in /usr/local/lib/python3.11/dist-packages (from notebook>=4.4.1->widgetsnbextension~=3.6.0->ipywidgets<9,>=7.6.0->ipympl->segment-geospatial) (0.18.1)\n",
            "Requirement already satisfied: prometheus-client in /usr/local/lib/python3.11/dist-packages (from notebook>=4.4.1->widgetsnbextension~=3.6.0->ipywidgets<9,>=7.6.0->ipympl->segment-geospatial) (0.21.1)\n",
            "Requirement already satisfied: nbclassic>=0.4.7 in /usr/local/lib/python3.11/dist-packages (from notebook>=4.4.1->widgetsnbextension~=3.6.0->ipywidgets<9,>=7.6.0->ipympl->segment-geospatial) (1.2.0)\n",
            "Requirement already satisfied: sniffio>=1.1 in /usr/local/lib/python3.11/dist-packages (from anyio->httpx->rio-tiler->localtileserver->segment-geospatial) (1.3.1)\n",
            "Requirement already satisfied: notebook-shim>=0.2.3 in /usr/local/lib/python3.11/dist-packages (from nbclassic>=0.4.7->notebook>=4.4.1->widgetsnbextension~=3.6.0->ipywidgets<9,>=7.6.0->ipympl->segment-geospatial) (0.2.4)\n",
            "Requirement already satisfied: bleach!=5.0.0 in /usr/local/lib/python3.11/dist-packages (from bleach[css]!=5.0.0->nbconvert>=5->notebook>=4.4.1->widgetsnbextension~=3.6.0->ipywidgets<9,>=7.6.0->ipympl->segment-geospatial) (6.2.0)\n",
            "Requirement already satisfied: defusedxml in /usr/local/lib/python3.11/dist-packages (from nbconvert>=5->notebook>=4.4.1->widgetsnbextension~=3.6.0->ipywidgets<9,>=7.6.0->ipympl->segment-geospatial) (0.7.1)\n",
            "Requirement already satisfied: jupyterlab-pygments in /usr/local/lib/python3.11/dist-packages (from nbconvert>=5->notebook>=4.4.1->widgetsnbextension~=3.6.0->ipywidgets<9,>=7.6.0->ipympl->segment-geospatial) (0.3.0)\n",
            "Requirement already satisfied: mistune<4,>=2.0.3 in /usr/local/lib/python3.11/dist-packages (from nbconvert>=5->notebook>=4.4.1->widgetsnbextension~=3.6.0->ipywidgets<9,>=7.6.0->ipympl->segment-geospatial) (3.1.2)\n",
            "Requirement already satisfied: nbclient>=0.5.0 in /usr/local/lib/python3.11/dist-packages (from nbconvert>=5->notebook>=4.4.1->widgetsnbextension~=3.6.0->ipywidgets<9,>=7.6.0->ipympl->segment-geospatial) (0.10.2)\n",
            "Requirement already satisfied: pandocfilters>=1.4.1 in /usr/local/lib/python3.11/dist-packages (from nbconvert>=5->notebook>=4.4.1->widgetsnbextension~=3.6.0->ipywidgets<9,>=7.6.0->ipympl->segment-geospatial) (1.5.1)\n",
            "Requirement already satisfied: fastjsonschema>=2.15 in /usr/local/lib/python3.11/dist-packages (from nbformat->notebook>=4.4.1->widgetsnbextension~=3.6.0->ipywidgets<9,>=7.6.0->ipympl->segment-geospatial) (2.21.1)\n",
            "Requirement already satisfied: argon2-cffi-bindings in /usr/local/lib/python3.11/dist-packages (from argon2-cffi->notebook>=4.4.1->widgetsnbextension~=3.6.0->ipywidgets<9,>=7.6.0->ipympl->segment-geospatial) (21.2.0)\n",
            "Requirement already satisfied: webencodings in /usr/local/lib/python3.11/dist-packages (from bleach!=5.0.0->bleach[css]!=5.0.0->nbconvert>=5->notebook>=4.4.1->widgetsnbextension~=3.6.0->ipywidgets<9,>=7.6.0->ipympl->segment-geospatial) (0.5.1)\n",
            "Requirement already satisfied: tinycss2<1.5,>=1.1.0 in /usr/local/lib/python3.11/dist-packages (from bleach[css]!=5.0.0->nbconvert>=5->notebook>=4.4.1->widgetsnbextension~=3.6.0->ipywidgets<9,>=7.6.0->ipympl->segment-geospatial) (1.4.0)\n",
            "Requirement already satisfied: jupyter-server<3,>=1.8 in /usr/local/lib/python3.11/dist-packages (from notebook-shim>=0.2.3->nbclassic>=0.4.7->notebook>=4.4.1->widgetsnbextension~=3.6.0->ipywidgets<9,>=7.6.0->ipympl->segment-geospatial) (1.24.0)\n",
            "Requirement already satisfied: cffi>=1.0.1 in /usr/local/lib/python3.11/dist-packages (from argon2-cffi-bindings->argon2-cffi->notebook>=4.4.1->widgetsnbextension~=3.6.0->ipywidgets<9,>=7.6.0->ipympl->segment-geospatial) (1.17.1)\n",
            "Requirement already satisfied: pycparser in /usr/local/lib/python3.11/dist-packages (from cffi>=1.0.1->argon2-cffi-bindings->argon2-cffi->notebook>=4.4.1->widgetsnbextension~=3.6.0->ipywidgets<9,>=7.6.0->ipympl->segment-geospatial) (2.22)\n",
            "Requirement already satisfied: websocket-client in /usr/local/lib/python3.11/dist-packages (from jupyter-server<3,>=1.8->notebook-shim>=0.2.3->nbclassic>=0.4.7->notebook>=4.4.1->widgetsnbextension~=3.6.0->ipywidgets<9,>=7.6.0->ipympl->segment-geospatial) (1.8.0)\n",
            "Downloading segment_geospatial-0.12.4-py2.py3-none-any.whl (73 kB)\n",
            "\u001b[2K   \u001b[90m━━━━━━━━━━━━━━━━━━━━━━━━━━━━━━━━━━━━━━━━\u001b[0m \u001b[32m73.8/73.8 kB\u001b[0m \u001b[31m6.1 MB/s\u001b[0m eta \u001b[36m0:00:00\u001b[0m\n",
            "\u001b[?25hDownloading supervision-0.6.0-py3-none-any.whl (31 kB)\n",
            "Downloading addict-2.4.0-py3-none-any.whl (3.8 kB)\n",
            "Downloading fiona-1.10.1-cp311-cp311-manylinux_2_17_x86_64.manylinux2014_x86_64.whl (17.3 MB)\n",
            "\u001b[2K   \u001b[90m━━━━━━━━━━━━━━━━━━━━━━━━━━━━━━━━━━━━━━━━\u001b[0m \u001b[32m17.3/17.3 MB\u001b[0m \u001b[31m96.0 MB/s\u001b[0m eta \u001b[36m0:00:00\u001b[0m\n",
            "\u001b[?25hDownloading ipympl-0.9.7-py3-none-any.whl (515 kB)\n",
            "\u001b[2K   \u001b[90m━━━━━━━━━━━━━━━━━━━━━━━━━━━━━━━━━━━━━━━━\u001b[0m \u001b[32m515.7/515.7 kB\u001b[0m \u001b[31m40.7 MB/s\u001b[0m eta \u001b[36m0:00:00\u001b[0m\n",
            "\u001b[?25hDownloading leafmap-0.42.13-py2.py3-none-any.whl (519 kB)\n",
            "\u001b[2K   \u001b[90m━━━━━━━━━━━━━━━━━━━━━━━━━━━━━━━━━━━━━━━━\u001b[0m \u001b[32m519.2/519.2 kB\u001b[0m \u001b[31m35.8 MB/s\u001b[0m eta \u001b[36m0:00:00\u001b[0m\n",
            "\u001b[?25hDownloading localtileserver-0.10.6-py3-none-any.whl (17.1 MB)\n",
            "\u001b[2K   \u001b[90m━━━━━━━━━━━━━━━━━━━━━━━━━━━━━━━━━━━━━━━━\u001b[0m \u001b[32m17.1/17.1 MB\u001b[0m \u001b[31m89.5 MB/s\u001b[0m eta \u001b[36m0:00:00\u001b[0m\n",
            "\u001b[?25hDownloading patool-4.0.0-py2.py3-none-any.whl (86 kB)\n",
            "\u001b[2K   \u001b[90m━━━━━━━━━━━━━━━━━━━━━━━━━━━━━━━━━━━━━━━━\u001b[0m \u001b[32m86.3/86.3 kB\u001b[0m \u001b[31m8.1 MB/s\u001b[0m eta \u001b[36m0:00:00\u001b[0m\n",
            "\u001b[?25hDownloading rasterio-1.4.3-cp311-cp311-manylinux_2_17_x86_64.manylinux2014_x86_64.whl (22.2 MB)\n",
            "\u001b[2K   \u001b[90m━━━━━━━━━━━━━━━━━━━━━━━━━━━━━━━━━━━━━━━━\u001b[0m \u001b[32m22.2/22.2 MB\u001b[0m \u001b[31m92.6 MB/s\u001b[0m eta \u001b[36m0:00:00\u001b[0m\n",
            "\u001b[?25hDownloading rioxarray-0.18.2-py3-none-any.whl (61 kB)\n",
            "\u001b[2K   \u001b[90m━━━━━━━━━━━━━━━━━━━━━━━━━━━━━━━━━━━━━━━━\u001b[0m \u001b[32m61.9/61.9 kB\u001b[0m \u001b[31m5.6 MB/s\u001b[0m eta \u001b[36m0:00:00\u001b[0m\n",
            "\u001b[?25hUsing cached nvidia_cublas_cu12-12.4.5.8-py3-none-manylinux2014_x86_64.whl (363.4 MB)\n",
            "Using cached nvidia_cuda_cupti_cu12-12.4.127-py3-none-manylinux2014_x86_64.whl (13.8 MB)\n",
            "Using cached nvidia_cuda_nvrtc_cu12-12.4.127-py3-none-manylinux2014_x86_64.whl (24.6 MB)\n",
            "Using cached nvidia_cuda_runtime_cu12-12.4.127-py3-none-manylinux2014_x86_64.whl (883 kB)\n",
            "Using cached nvidia_cudnn_cu12-9.1.0.70-py3-none-manylinux2014_x86_64.whl (664.8 MB)\n",
            "Using cached nvidia_cufft_cu12-11.2.1.3-py3-none-manylinux2014_x86_64.whl (211.5 MB)\n",
            "Using cached nvidia_curand_cu12-10.3.5.147-py3-none-manylinux2014_x86_64.whl (56.3 MB)\n",
            "Using cached nvidia_cusolver_cu12-11.6.1.9-py3-none-manylinux2014_x86_64.whl (127.9 MB)\n",
            "Using cached nvidia_cusparse_cu12-12.3.1.170-py3-none-manylinux2014_x86_64.whl (207.5 MB)\n",
            "Using cached nvidia_nvjitlink_cu12-12.4.127-py3-none-manylinux2014_x86_64.whl (21.1 MB)\n",
            "Downloading segment_anything_hq-0.3-py3-none-any.whl (52 kB)\n",
            "\u001b[2K   \u001b[90m━━━━━━━━━━━━━━━━━━━━━━━━━━━━━━━━━━━━━━━━\u001b[0m \u001b[32m53.0/53.0 kB\u001b[0m \u001b[31m78.6 kB/s\u001b[0m eta \u001b[36m0:00:00\u001b[0m\n",
            "\u001b[?25hDownloading segment_anything_py-1.0.1-py3-none-any.whl (40 kB)\n",
            "\u001b[2K   \u001b[90m━━━━━━━━━━━━━━━━━━━━━━━━━━━━━━━━━━━━━━━━\u001b[0m \u001b[32m40.5/40.5 kB\u001b[0m \u001b[31m3.4 MB/s\u001b[0m eta \u001b[36m0:00:00\u001b[0m\n",
            "\u001b[?25hDownloading yapf-0.43.0-py3-none-any.whl (256 kB)\n",
            "\u001b[2K   \u001b[90m━━━━━━━━━━━━━━━━━━━━━━━━━━━━━━━━━━━━━━━━\u001b[0m \u001b[32m256.2/256.2 kB\u001b[0m \u001b[31m22.9 MB/s\u001b[0m eta \u001b[36m0:00:00\u001b[0m\n",
            "\u001b[?25hDownloading click_plugins-1.1.1-py2.py3-none-any.whl (7.5 kB)\n",
            "Downloading cligj-0.7.2-py3-none-any.whl (7.1 kB)\n",
            "Downloading flask_restx-1.3.0-py2.py3-none-any.whl (2.8 MB)\n",
            "\u001b[2K   \u001b[90m━━━━━━━━━━━━━━━━━━━━━━━━━━━━━━━━━━━━━━━━\u001b[0m \u001b[32m2.8/2.8 MB\u001b[0m \u001b[31m98.2 MB/s\u001b[0m eta \u001b[36m0:00:00\u001b[0m\n",
            "\u001b[?25hDownloading hydra_core-1.3.2-py3-none-any.whl (154 kB)\n",
            "\u001b[2K   \u001b[90m━━━━━━━━━━━━━━━━━━━━━━━━━━━━━━━━━━━━━━━━\u001b[0m \u001b[32m154.5/154.5 kB\u001b[0m \u001b[31m16.1 MB/s\u001b[0m eta \u001b[36m0:00:00\u001b[0m\n",
            "\u001b[?25hDownloading affine-2.4.0-py3-none-any.whl (15 kB)\n",
            "Downloading anywidget-0.9.15-py3-none-any.whl (219 kB)\n",
            "\u001b[2K   \u001b[90m━━━━━━━━━━━━━━━━━━━━━━━━━━━━━━━━━━━━━━━━\u001b[0m \u001b[32m219.1/219.1 kB\u001b[0m \u001b[31m20.7 MB/s\u001b[0m eta \u001b[36m0:00:00\u001b[0m\n",
            "\u001b[?25hDownloading Flask_Caching-2.3.1-py3-none-any.whl (28 kB)\n",
            "Downloading flask_cors-5.0.1-py3-none-any.whl (11 kB)\n",
            "Downloading geojson-3.2.0-py3-none-any.whl (15 kB)\n",
            "Downloading ipyvuetify-1.11.1-py2.py3-none-any.whl (7.7 MB)\n",
            "\u001b[2K   \u001b[90m━━━━━━━━━━━━━━━━━━━━━━━━━━━━━━━━━━━━━━━━\u001b[0m \u001b[32m7.7/7.7 MB\u001b[0m \u001b[31m104.1 MB/s\u001b[0m eta \u001b[36m0:00:00\u001b[0m\n",
            "\u001b[?25hDownloading pystac_client-0.8.6-py3-none-any.whl (41 kB)\n",
            "\u001b[2K   \u001b[90m━━━━━━━━━━━━━━━━━━━━━━━━━━━━━━━━━━━━━━━━\u001b[0m \u001b[32m41.4/41.4 kB\u001b[0m \u001b[31m3.6 MB/s\u001b[0m eta \u001b[36m0:00:00\u001b[0m\n",
            "\u001b[?25hDownloading rio_cogeo-5.4.1-py3-none-any.whl (20 kB)\n",
            "Downloading rio_tiler-7.5.0-py3-none-any.whl (267 kB)\n",
            "\u001b[2K   \u001b[90m━━━━━━━━━━━━━━━━━━━━━━━━━━━━━━━━━━━━━━━━\u001b[0m \u001b[32m267.5/267.5 kB\u001b[0m \u001b[31m23.5 MB/s\u001b[0m eta \u001b[36m0:00:00\u001b[0m\n",
            "\u001b[?25hDownloading server_thread-0.3.0-py3-none-any.whl (6.6 kB)\n",
            "Downloading whiteboxgui-2.3.0-py2.py3-none-any.whl (108 kB)\n",
            "\u001b[2K   \u001b[90m━━━━━━━━━━━━━━━━━━━━━━━━━━━━━━━━━━━━━━━━\u001b[0m \u001b[32m108.6/108.6 kB\u001b[0m \u001b[31m9.6 MB/s\u001b[0m eta \u001b[36m0:00:00\u001b[0m\n",
            "\u001b[?25hDownloading aniso8601-10.0.0-py2.py3-none-any.whl (52 kB)\n",
            "\u001b[2K   \u001b[90m━━━━━━━━━━━━━━━━━━━━━━━━━━━━━━━━━━━━━━━━\u001b[0m \u001b[32m52.8/52.8 kB\u001b[0m \u001b[31m5.1 MB/s\u001b[0m eta \u001b[36m0:00:00\u001b[0m\n",
            "\u001b[?25hDownloading cachelib-0.13.0-py3-none-any.whl (20 kB)\n",
            "Downloading ipyvue-1.11.2-py2.py3-none-any.whl (2.7 MB)\n",
            "\u001b[2K   \u001b[90m━━━━━━━━━━━━━━━━━━━━━━━━━━━━━━━━━━━━━━━━\u001b[0m \u001b[32m2.7/2.7 MB\u001b[0m \u001b[31m33.1 MB/s\u001b[0m eta \u001b[36m0:00:00\u001b[0m\n",
            "\u001b[?25hDownloading jedi-0.19.2-py2.py3-none-any.whl (1.6 MB)\n",
            "\u001b[2K   \u001b[90m━━━━━━━━━━━━━━━━━━━━━━━━━━━━━━━━━━━━━━━━\u001b[0m \u001b[32m1.6/1.6 MB\u001b[0m \u001b[31m75.7 MB/s\u001b[0m eta \u001b[36m0:00:00\u001b[0m\n",
            "\u001b[?25hDownloading morecantile-6.2.0-py3-none-any.whl (49 kB)\n",
            "\u001b[2K   \u001b[90m━━━━━━━━━━━━━━━━━━━━━━━━━━━━━━━━━━━━━━━━\u001b[0m \u001b[32m49.5/49.5 kB\u001b[0m \u001b[31m4.3 MB/s\u001b[0m eta \u001b[36m0:00:00\u001b[0m\n",
            "\u001b[?25hDownloading omegaconf-2.3.0-py3-none-any.whl (79 kB)\n",
            "\u001b[2K   \u001b[90m━━━━━━━━━━━━━━━━━━━━━━━━━━━━━━━━━━━━━━━━\u001b[0m \u001b[32m79.5/79.5 kB\u001b[0m \u001b[31m7.7 MB/s\u001b[0m eta \u001b[36m0:00:00\u001b[0m\n",
            "\u001b[?25hDownloading psygnal-0.12.0-cp311-cp311-manylinux_2_17_x86_64.manylinux2014_x86_64.whl (765 kB)\n",
            "\u001b[2K   \u001b[90m━━━━━━━━━━━━━━━━━━━━━━━━━━━━━━━━━━━━━━━━\u001b[0m \u001b[32m765.5/765.5 kB\u001b[0m \u001b[31m52.1 MB/s\u001b[0m eta \u001b[36m0:00:00\u001b[0m\n",
            "\u001b[?25hDownloading pystac-1.12.2-py3-none-any.whl (194 kB)\n",
            "\u001b[2K   \u001b[90m━━━━━━━━━━━━━━━━━━━━━━━━━━━━━━━━━━━━━━━━\u001b[0m \u001b[32m194.2/194.2 kB\u001b[0m \u001b[31m18.9 MB/s\u001b[0m eta \u001b[36m0:00:00\u001b[0m\n",
            "\u001b[?25hDownloading color_operations-0.1.6-cp311-cp311-manylinux_2_5_x86_64.manylinux1_x86_64.manylinux_2_17_x86_64.manylinux2014_x86_64.whl (195 kB)\n",
            "\u001b[2K   \u001b[90m━━━━━━━━━━━━━━━━━━━━━━━━━━━━━━━━━━━━━━━━\u001b[0m \u001b[32m195.0/195.0 kB\u001b[0m \u001b[31m19.9 MB/s\u001b[0m eta \u001b[36m0:00:00\u001b[0m\n",
            "\u001b[?25hDownloading portalocker-3.1.1-py3-none-any.whl (19 kB)\n",
            "Downloading uvicorn-0.34.0-py3-none-any.whl (62 kB)\n",
            "\u001b[2K   \u001b[90m━━━━━━━━━━━━━━━━━━━━━━━━━━━━━━━━━━━━━━━━\u001b[0m \u001b[32m62.3/62.3 kB\u001b[0m \u001b[31m5.4 MB/s\u001b[0m eta \u001b[36m0:00:00\u001b[0m\n",
            "\u001b[?25hDownloading whitebox-2.3.6-py2.py3-none-any.whl (74 kB)\n",
            "\u001b[2K   \u001b[90m━━━━━━━━━━━━━━━━━━━━━━━━━━━━━━━━━━━━━━━━\u001b[0m \u001b[32m74.0/74.0 kB\u001b[0m \u001b[31m7.4 MB/s\u001b[0m eta \u001b[36m0:00:00\u001b[0m\n",
            "\u001b[?25hBuilding wheels for collected packages: groundingdino-py, sam2, antlr4-python3-runtime, iopath\n",
            "  Building wheel for groundingdino-py (setup.py) ... \u001b[?25l\u001b[?25hdone\n",
            "  Created wheel for groundingdino-py: filename=groundingdino_py-0.4.0-py2.py3-none-any.whl size=88733 sha256=d2af9fab4f77d8beceed0add6c6c8a8c6b8f5f4f698570fddc7a3e842ad81e35\n",
            "  Stored in directory: /root/.cache/pip/wheels/fb/d4/c6/bdacf5e1dfeb8f104b8ec5968ee61c0f6ef9d9193ba85c0b8d\n",
            "  Building wheel for sam2 (pyproject.toml) ... \u001b[?25l\u001b[?25hdone\n",
            "  Created wheel for sam2: filename=sam2-1.1.0-cp311-cp311-linux_x86_64.whl size=471034 sha256=a25ef29560588b85b5f2838b02fffdbd33fd4d70ae4e6de7e8c81deeb0b40cb0\n",
            "  Stored in directory: /root/.cache/pip/wheels/d5/c6/ed/164df00d6a31203bc2cd1f65385761825e32a77417b90cc3c7\n",
            "  Building wheel for antlr4-python3-runtime (setup.py) ... \u001b[?25l\u001b[?25hdone\n",
            "  Created wheel for antlr4-python3-runtime: filename=antlr4_python3_runtime-4.9.3-py3-none-any.whl size=144555 sha256=840cc4cc47838f8e931319a15172d3bca5c2a5ade327fdf47e2a49bfbd012366\n",
            "  Stored in directory: /root/.cache/pip/wheels/1a/97/32/461f837398029ad76911109f07047fde1d7b661a147c7c56d1\n",
            "  Building wheel for iopath (setup.py) ... \u001b[?25l\u001b[?25hdone\n",
            "  Created wheel for iopath: filename=iopath-0.1.10-py3-none-any.whl size=31528 sha256=5d88fcdbc2725203a8ffae64dc62770ebe25b0543eb1bd651630d39d2be10fa0\n",
            "  Stored in directory: /root/.cache/pip/wheels/ba/5e/16/6117f8fe7e9c0c161a795e10d94645ebcf301ccbd01f66d8ec\n",
            "Successfully built groundingdino-py sam2 antlr4-python3-runtime iopath\n",
            "Installing collected packages: antlr4-python3-runtime, aniso8601, addict, yapf, whitebox, uvicorn, psygnal, portalocker, patool, omegaconf, nvidia-nvjitlink-cu12, nvidia-curand-cu12, nvidia-cufft-cu12, nvidia-cuda-runtime-cu12, nvidia-cuda-nvrtc-cu12, nvidia-cuda-cupti-cu12, nvidia-cublas-cu12, jedi, geojson, color-operations, cligj, click-plugins, cachelib, affine, server-thread, rasterio, pystac, nvidia-cusparse-cu12, nvidia-cudnn-cu12, iopath, hydra-core, fiona, supervision, nvidia-cusolver-cu12, morecantile, flask-cors, Flask-Caching, rioxarray, rio-tiler, rio-cogeo, flask-restx, pystac-client, localtileserver, segment-anything-py, segment-anything-hq, sam2, groundingdino-py, ipyvue, ipympl, anywidget, whiteboxgui, ipyvuetify, leafmap, segment-geospatial\n",
            "  Attempting uninstall: nvidia-nvjitlink-cu12\n",
            "    Found existing installation: nvidia-nvjitlink-cu12 12.5.82\n",
            "    Uninstalling nvidia-nvjitlink-cu12-12.5.82:\n",
            "      Successfully uninstalled nvidia-nvjitlink-cu12-12.5.82\n",
            "  Attempting uninstall: nvidia-curand-cu12\n",
            "    Found existing installation: nvidia-curand-cu12 10.3.6.82\n",
            "    Uninstalling nvidia-curand-cu12-10.3.6.82:\n",
            "      Successfully uninstalled nvidia-curand-cu12-10.3.6.82\n",
            "  Attempting uninstall: nvidia-cufft-cu12\n",
            "    Found existing installation: nvidia-cufft-cu12 11.2.3.61\n",
            "    Uninstalling nvidia-cufft-cu12-11.2.3.61:\n",
            "      Successfully uninstalled nvidia-cufft-cu12-11.2.3.61\n",
            "  Attempting uninstall: nvidia-cuda-runtime-cu12\n",
            "    Found existing installation: nvidia-cuda-runtime-cu12 12.5.82\n",
            "    Uninstalling nvidia-cuda-runtime-cu12-12.5.82:\n",
            "      Successfully uninstalled nvidia-cuda-runtime-cu12-12.5.82\n",
            "  Attempting uninstall: nvidia-cuda-nvrtc-cu12\n",
            "    Found existing installation: nvidia-cuda-nvrtc-cu12 12.5.82\n",
            "    Uninstalling nvidia-cuda-nvrtc-cu12-12.5.82:\n",
            "      Successfully uninstalled nvidia-cuda-nvrtc-cu12-12.5.82\n",
            "  Attempting uninstall: nvidia-cuda-cupti-cu12\n",
            "    Found existing installation: nvidia-cuda-cupti-cu12 12.5.82\n",
            "    Uninstalling nvidia-cuda-cupti-cu12-12.5.82:\n",
            "      Successfully uninstalled nvidia-cuda-cupti-cu12-12.5.82\n",
            "  Attempting uninstall: nvidia-cublas-cu12\n",
            "    Found existing installation: nvidia-cublas-cu12 12.5.3.2\n",
            "    Uninstalling nvidia-cublas-cu12-12.5.3.2:\n",
            "      Successfully uninstalled nvidia-cublas-cu12-12.5.3.2\n",
            "  Attempting uninstall: nvidia-cusparse-cu12\n",
            "    Found existing installation: nvidia-cusparse-cu12 12.5.1.3\n",
            "    Uninstalling nvidia-cusparse-cu12-12.5.1.3:\n",
            "      Successfully uninstalled nvidia-cusparse-cu12-12.5.1.3\n",
            "  Attempting uninstall: nvidia-cudnn-cu12\n",
            "    Found existing installation: nvidia-cudnn-cu12 9.3.0.75\n",
            "    Uninstalling nvidia-cudnn-cu12-9.3.0.75:\n",
            "      Successfully uninstalled nvidia-cudnn-cu12-9.3.0.75\n",
            "  Attempting uninstall: nvidia-cusolver-cu12\n",
            "    Found existing installation: nvidia-cusolver-cu12 11.6.3.83\n",
            "    Uninstalling nvidia-cusolver-cu12-11.6.3.83:\n",
            "      Successfully uninstalled nvidia-cusolver-cu12-11.6.3.83\n",
            "Successfully installed Flask-Caching-2.3.1 addict-2.4.0 affine-2.4.0 aniso8601-10.0.0 antlr4-python3-runtime-4.9.3 anywidget-0.9.15 cachelib-0.13.0 click-plugins-1.1.1 cligj-0.7.2 color-operations-0.1.6 fiona-1.10.1 flask-cors-5.0.1 flask-restx-1.3.0 geojson-3.2.0 groundingdino-py-0.4.0 hydra-core-1.3.2 iopath-0.1.10 ipympl-0.9.7 ipyvue-1.11.2 ipyvuetify-1.11.1 jedi-0.19.2 leafmap-0.42.13 localtileserver-0.10.6 morecantile-6.2.0 nvidia-cublas-cu12-12.4.5.8 nvidia-cuda-cupti-cu12-12.4.127 nvidia-cuda-nvrtc-cu12-12.4.127 nvidia-cuda-runtime-cu12-12.4.127 nvidia-cudnn-cu12-9.1.0.70 nvidia-cufft-cu12-11.2.1.3 nvidia-curand-cu12-10.3.5.147 nvidia-cusolver-cu12-11.6.1.9 nvidia-cusparse-cu12-12.3.1.170 nvidia-nvjitlink-cu12-12.4.127 omegaconf-2.3.0 patool-4.0.0 portalocker-3.1.1 psygnal-0.12.0 pystac-1.12.2 pystac-client-0.8.6 rasterio-1.4.3 rio-cogeo-5.4.1 rio-tiler-7.5.0 rioxarray-0.18.2 sam2-1.1.0 segment-anything-hq-0.3 segment-anything-py-1.0.1 segment-geospatial-0.12.4 server-thread-0.3.0 supervision-0.6.0 uvicorn-0.34.0 whitebox-2.3.6 whiteboxgui-2.3.0 yapf-0.43.0\n"
          ]
        },
        {
          "output_type": "display_data",
          "data": {
            "application/vnd.colab-display-data+json": {
              "pip_warning": {
                "packages": [
                  "pydevd_plugins"
                ]
              },
              "id": "069571557964466a8d545fc1c97fe7a9"
            }
          },
          "metadata": {}
        }
      ],
      "source": [
        "%pip install segment-geospatial groundingdino-py"
      ]
    },
    {
      "cell_type": "markdown",
      "metadata": {
        "id": "bYGSZ4cPUAeo"
      },
      "source": [
        "## Image segmentation with point prompts\n",
        "\n",
        "In this section, we will demonstrate how to segment objects from remote sensing imagery using point prompts with the Segment Anything Model 2 (SAM 2).\n",
        "\n",
        "### Import libraries\n",
        "\n",
        "Import the required libraries, including [leafmap](https://leafmap.org) and [samgeo](https://samgeo.gishub.org)."
      ]
    },
    {
      "cell_type": "code",
      "execution_count": 2,
      "metadata": {
        "id": "vAm6CTW2UAeo"
      },
      "outputs": [],
      "source": [
        "import leafmap\n",
        "from samgeo import SamGeo2, regularize"
      ]
    },
    {
      "cell_type": "markdown",
      "metadata": {
        "id": "UCPMtM6FUAeo"
      },
      "source": [
        "### Create an interactive map\n",
        "\n",
        "Create an interactive map using leafmap."
      ]
    },
    {
      "cell_type": "code",
      "execution_count": null,
      "metadata": {
        "id": "_7Ey7yWuUAeo"
      },
      "outputs": [],
      "source": [
        "m = leafmap.Map(center=[47.653287, -117.588070], zoom=16, height=\"800px\")\n",
        "m.add_basemap(\"Satellite\")\n",
        "m"
      ]
    },
    {
      "cell_type": "markdown",
      "metadata": {
        "id": "QMXQl2QpUAep"
      },
      "source": [
        "### Download a sample image\n",
        "\n",
        "Pan and zoom the map to select the area of interest. Use the draw tools to draw a polygon or rectangle on the map. If no geometry is drawn, the default bounding box will be used."
      ]
    },
    {
      "cell_type": "code",
      "execution_count": null,
      "metadata": {
        "id": "kronD1CAUAep"
      },
      "outputs": [],
      "source": [
        "if m.user_roi is not None:\n",
        "    bbox = m.user_roi_bounds()\n",
        "else:\n",
        "    bbox = [-117.6029, 47.65, -117.5936, 47.6563]"
      ]
    },
    {
      "cell_type": "markdown",
      "metadata": {
        "id": "x89PAk6KUAep"
      },
      "source": [
        "Download the image within the selected region using `map_tiles_to_geotiff()` function."
      ]
    },
    {
      "cell_type": "code",
      "execution_count": null,
      "metadata": {
        "id": "gaXvwPzIUAeq"
      },
      "outputs": [],
      "source": [
        "image = \"satellite.tif\"\n",
        "leafmap.map_tiles_to_geotiff(\n",
        "    output=image, bbox=bbox, zoom=18, source=\"Satellite\", overwrite=True\n",
        ")"
      ]
    },
    {
      "cell_type": "markdown",
      "metadata": {
        "id": "pTylE6J2UAeq"
      },
      "source": [
        "**Important note:** The code is provided for educational purposes only. By using the information and code provided, users acknowledge that they are using the APIs and models at their own risk and agree to comply with any applicable laws and regulations. Users who intend to download a large number of image tiles from any basemap are advised to contact the basemap provider to obtain permission before doing so. Unauthorized use of the basemap or any of its components may be a violation of copyright laws or other applicable laws and regulations.\n",
        "\n",
        "Alternatively, you can also use your own image. Uncomment and run the following cell to use your own image."
      ]
    },
    {
      "cell_type": "code",
      "execution_count": null,
      "metadata": {
        "id": "zIufnP7aUAeq"
      },
      "outputs": [],
      "source": [
        "# image = '/path/to/your/own/image.tif'"
      ]
    },
    {
      "cell_type": "markdown",
      "metadata": {
        "id": "G1azHGNjUAeq"
      },
      "source": [
        "Display the downloaded image on the map."
      ]
    },
    {
      "cell_type": "code",
      "execution_count": null,
      "metadata": {
        "id": "BoHkoJ-0UAeq"
      },
      "outputs": [],
      "source": [
        "m.layers[-1].visible = False\n",
        "m.add_raster(image, layer_name=\"Image\")\n",
        "m"
      ]
    },
    {
      "cell_type": "markdown",
      "metadata": {
        "id": "nc9ybFNzUAer"
      },
      "source": [
        "### Initialize SAM class\n",
        "\n",
        "Set `automatic=False` to enable the `SAM2ImagePredictor`."
      ]
    },
    {
      "cell_type": "code",
      "execution_count": null,
      "metadata": {
        "id": "J1NFjjdMUAer"
      },
      "outputs": [],
      "source": [
        "sam = SamGeo2(\n",
        "    model_id=\"sam2-hiera-large\",\n",
        "    automatic=False,\n",
        ")"
      ]
    },
    {
      "cell_type": "markdown",
      "metadata": {
        "id": "Vp3gp6RyUAes"
      },
      "source": [
        "Specify the image to segment."
      ]
    },
    {
      "cell_type": "code",
      "execution_count": null,
      "metadata": {
        "id": "frPX2cUVUAes"
      },
      "outputs": [],
      "source": [
        "sam.set_image(image)"
      ]
    },
    {
      "cell_type": "markdown",
      "metadata": {
        "id": "AAb8H7C4UAes"
      },
      "source": [
        "### Segment the image\n",
        "\n",
        "Use the `predict_by_points()` method to segment the image with specified point coordinates. You can use the draw tools to add place markers on the map. If no point is added, the default sample points will be used."
      ]
    },
    {
      "cell_type": "code",
      "execution_count": null,
      "metadata": {
        "id": "5yjUhB_aUAes"
      },
      "outputs": [],
      "source": [
        "if m.user_rois is not None:\n",
        "    point_coords_batch = m.user_rois\n",
        "else:\n",
        "    point_coords_batch = [\n",
        "        [-117.599896, 47.655345],\n",
        "        [-117.59992, 47.655167],\n",
        "        [-117.599928, 47.654974],\n",
        "        [-117.599518, 47.655337],\n",
        "    ]"
      ]
    },
    {
      "cell_type": "markdown",
      "metadata": {
        "id": "TmPyUcSfUAet"
      },
      "source": [
        "Segment the objects using the point prompts and save the output masks."
      ]
    },
    {
      "cell_type": "code",
      "execution_count": null,
      "metadata": {
        "id": "6VWX5L5XUAet"
      },
      "outputs": [],
      "source": [
        "sam.predict_by_points(\n",
        "    point_coords_batch=point_coords_batch,\n",
        "    point_crs=\"EPSG:4326\",\n",
        "    output=\"mask.tif\",\n",
        "    dtype=\"uint8\",\n",
        ")"
      ]
    },
    {
      "cell_type": "markdown",
      "metadata": {
        "id": "qA25NTZlUAet"
      },
      "source": [
        "### Display the result\n",
        "\n",
        "Add the segmented image to the map."
      ]
    },
    {
      "cell_type": "code",
      "execution_count": null,
      "metadata": {
        "id": "X1poIceUUAet"
      },
      "outputs": [],
      "source": [
        "m.add_raster(\"mask.tif\", cmap=\"viridis\", nodata=0, opacity=0.7, layer_name=\"Mask\")\n",
        "m"
      ]
    },
    {
      "cell_type": "markdown",
      "metadata": {
        "id": "VUyb5y8tUAeu"
      },
      "source": [
        "![image](https://github.com/user-attachments/assets/49e413b9-e159-4d72-bf23-a0318bc82d44)"
      ]
    },
    {
      "cell_type": "markdown",
      "metadata": {
        "id": "oOEu1Jx5UAeu"
      },
      "source": [
        "### Use an existing vector dataset as point prompts\n",
        "\n",
        "Alternatively, you can specify a file path or HTTP URL to a vector dataset containing point geometries."
      ]
    },
    {
      "cell_type": "code",
      "execution_count": null,
      "metadata": {
        "id": "__5m_mgLUAeu"
      },
      "outputs": [],
      "source": [
        "geojson = \"https://github.com/opengeos/datasets/releases/download/places/wa_building_centroids.geojson\""
      ]
    },
    {
      "cell_type": "markdown",
      "metadata": {
        "id": "5zybrr_rUAeu"
      },
      "source": [
        "Display the vector dataawr on the map."
      ]
    },
    {
      "cell_type": "code",
      "execution_count": null,
      "metadata": {
        "id": "yh1VOBRvUAeu"
      },
      "outputs": [],
      "source": [
        "m = leafmap.Map()\n",
        "m.add_raster(image, layer_name=\"Image\")\n",
        "m.add_circle_markers_from_xy(\n",
        "    geojson, radius=3, color=\"red\", fill_color=\"yellow\", fill_opacity=0.8\n",
        ")\n",
        "m"
      ]
    },
    {
      "cell_type": "markdown",
      "metadata": {
        "id": "k75Knz1KUAev"
      },
      "source": [
        "![image](https://github.com/user-attachments/assets/f0d3ff1e-15fa-4bd3-ac15-637e8d63527d)"
      ]
    },
    {
      "cell_type": "markdown",
      "metadata": {
        "id": "lqKv2JJhUAev"
      },
      "source": [
        "### Segment image with a vector dataset\n",
        "\n",
        "Segment the image using the specified file path to the vector dataset."
      ]
    },
    {
      "cell_type": "code",
      "execution_count": null,
      "metadata": {
        "id": "u8F_3xaOUAev"
      },
      "outputs": [],
      "source": [
        "output_masks = \"building_masks.tif\""
      ]
    },
    {
      "cell_type": "code",
      "execution_count": null,
      "metadata": {
        "id": "ZKrjWkMWUAev"
      },
      "outputs": [],
      "source": [
        "sam.predict_by_points(\n",
        "    point_coords_batch=geojson,\n",
        "    point_crs=\"EPSG:4326\",\n",
        "    output=output_masks,\n",
        "    dtype=\"uint8\",\n",
        "    multimask_output=False,\n",
        ")"
      ]
    },
    {
      "cell_type": "markdown",
      "metadata": {
        "id": "25Ca-GseUAev"
      },
      "source": [
        "Display the segmented masks on the map."
      ]
    },
    {
      "cell_type": "code",
      "execution_count": null,
      "metadata": {
        "id": "28tUqtA6UAev"
      },
      "outputs": [],
      "source": [
        "m.add_raster(\n",
        "    output_masks, cmap=\"jet\", nodata=0, opacity=0.7, layer_name=\"Building masks\"\n",
        ")\n",
        "m"
      ]
    },
    {
      "cell_type": "markdown",
      "metadata": {
        "id": "vef8PCu_UAew"
      },
      "source": [
        "![image](https://github.com/user-attachments/assets/262e1a31-1648-47d2-9e71-c85ab15b1a5c)"
      ]
    },
    {
      "cell_type": "markdown",
      "metadata": {
        "id": "uS1BgRDQUAew"
      },
      "source": [
        "### Clean up the result\n",
        "\n",
        "Remove small objects from the segmented masks, fill holes, and compute geometric properties."
      ]
    },
    {
      "cell_type": "code",
      "execution_count": null,
      "metadata": {
        "id": "dj_oFntqUAew"
      },
      "outputs": [],
      "source": [
        "out_vector = \"building_vector.geojson\"\n",
        "out_image = \"buildings.tif\""
      ]
    },
    {
      "cell_type": "code",
      "execution_count": null,
      "metadata": {
        "id": "CKnx9KIKUAew"
      },
      "outputs": [],
      "source": [
        "array, gdf = sam.region_groups(\n",
        "    output_masks, min_size=200, out_vector=out_vector, out_image=out_image\n",
        ")"
      ]
    },
    {
      "cell_type": "code",
      "execution_count": null,
      "metadata": {
        "id": "halM7kL0UAex"
      },
      "outputs": [],
      "source": [
        "gdf.head()"
      ]
    },
    {
      "cell_type": "markdown",
      "metadata": {
        "id": "6ZojDDRxUAex"
      },
      "source": [
        "![image](https://github.com/user-attachments/assets/af9ffa11-8ebe-4b42-8cba-3f5bcc4912f4)"
      ]
    },
    {
      "cell_type": "markdown",
      "metadata": {
        "id": "vqo_7-UmUAex"
      },
      "source": [
        "### Regularize building footprints\n",
        "\n",
        "Regularize the building footprints using the `regularize()` method."
      ]
    },
    {
      "cell_type": "code",
      "execution_count": null,
      "metadata": {
        "id": "2T_l4V6RUAex"
      },
      "outputs": [],
      "source": [
        "output_regularized = \"building_regularized.geojson\"\n",
        "regularize(out_vector, output_regularized)"
      ]
    },
    {
      "cell_type": "markdown",
      "metadata": {
        "id": "xMaSI1r0UAex"
      },
      "source": [
        "Display the regularized building footprints on the map."
      ]
    },
    {
      "cell_type": "code",
      "execution_count": null,
      "metadata": {
        "id": "FMU1LZ_qUAey"
      },
      "outputs": [],
      "source": [
        "m = leafmap.Map()\n",
        "m.add_raster(image, layer_name=\"Image\")\n",
        "style = {\n",
        "    \"color\": \"#ffff00\",\n",
        "    \"weight\": 2,\n",
        "    \"fillColor\": \"#7c4185\",\n",
        "    \"fillOpacity\": 0,\n",
        "}\n",
        "m.add_raster(out_image, cmap=\"tab20\", opacity=0.7, nodata=0, layer_name=\"Buildings\")\n",
        "m.add_vector(\n",
        "    output_regularized, style=style, layer_name=\"Building regularized\", info_mode=None\n",
        ")\n",
        "m"
      ]
    },
    {
      "cell_type": "markdown",
      "metadata": {
        "id": "MaH_n8EJUAey"
      },
      "source": [
        "![image](https://github.com/user-attachments/assets/b39ee029-2089-45b8-8ac0-ba0d750cec22)"
      ]
    },
    {
      "cell_type": "markdown",
      "metadata": {
        "id": "G4gwIXAxUAey"
      },
      "source": [
        "### Interactive segmentation\n",
        "\n",
        "Place markers on the map to segment the objects interactively."
      ]
    },
    {
      "cell_type": "code",
      "execution_count": null,
      "metadata": {
        "id": "1XgTOihPUAey"
      },
      "outputs": [],
      "source": [
        "sam.show_map()"
      ]
    },
    {
      "cell_type": "markdown",
      "metadata": {
        "id": "ikpgM9EKUAey"
      },
      "source": [
        "![](https://github.com/user-attachments/assets/4f487505-6e89-4892-9a70-95ab0aa69cb6)\n",
        "\n",
        "## Image segmentation with box prompts\n",
        "\n",
        "In this section, we will demonstrate how to segment objects from remote sensing imagery using box prompts with the Segment Anything Model 2 (SAM 2).\n",
        "\n",
        "### Import libraries\n",
        "\n",
        "Import the required libraries, including [leafmap](https://leafmap.org) and [samgeo](https://samgeo.gishub.org)."
      ]
    },
    {
      "cell_type": "code",
      "execution_count": null,
      "metadata": {
        "id": "36yLW_UKUAez"
      },
      "outputs": [],
      "source": [
        "import leafmap\n",
        "from samgeo import SamGeo2, raster_to_vector, regularize"
      ]
    },
    {
      "cell_type": "markdown",
      "metadata": {
        "id": "VMV3gZaCUAez"
      },
      "source": [
        "### Create an interactive map\n",
        "\n",
        "Create an interactive map using leafmap."
      ]
    },
    {
      "cell_type": "code",
      "execution_count": null,
      "metadata": {
        "id": "FDiVncwmUAez"
      },
      "outputs": [],
      "source": [
        "m = leafmap.Map(center=[47.653287, -117.588070], zoom=16, height=\"800px\")\n",
        "m.add_basemap(\"Satellite\")\n",
        "m"
      ]
    },
    {
      "cell_type": "markdown",
      "metadata": {
        "id": "BXzjZIEoUAez"
      },
      "source": [
        "### Download a sample image\n",
        "\n",
        "Pan and zoom the map to select the area of interest. Use the draw tools to draw a polygon or rectangle on the map. If no geometry is drawn, the default bounding box will be used."
      ]
    },
    {
      "cell_type": "code",
      "execution_count": null,
      "metadata": {
        "id": "RdTRnkR2UAe0"
      },
      "outputs": [],
      "source": [
        "if m.user_roi is not None:\n",
        "    bbox = m.user_roi_bounds()\n",
        "else:\n",
        "    bbox = [-117.6029, 47.65, -117.5936, 47.6563]"
      ]
    },
    {
      "cell_type": "markdown",
      "metadata": {
        "id": "bs1oU3KvUAe0"
      },
      "source": [
        "Download the image within the selected region using `map_tiles_to_geotiff()` function."
      ]
    },
    {
      "cell_type": "code",
      "execution_count": null,
      "metadata": {
        "id": "DykMLOPLUAe0"
      },
      "outputs": [],
      "source": [
        "image = \"satellite.tif\"\n",
        "leafmap.map_tiles_to_geotiff(\n",
        "    output=image, bbox=bbox, zoom=18, source=\"Satellite\", overwrite=True\n",
        ")"
      ]
    },
    {
      "cell_type": "markdown",
      "metadata": {
        "id": "Y2oc0Q2OUAe1"
      },
      "source": [
        "You can also use your own image. Uncomment and run the following cell to use your own image."
      ]
    },
    {
      "cell_type": "code",
      "execution_count": null,
      "metadata": {
        "id": "SE5_KY53UAe1"
      },
      "outputs": [],
      "source": [
        "# image = '/path/to/your/own/image.tif'"
      ]
    },
    {
      "cell_type": "markdown",
      "metadata": {
        "id": "J2o8ADAGUAe1"
      },
      "source": [
        "Display the downloaded image on the map."
      ]
    },
    {
      "cell_type": "code",
      "execution_count": null,
      "metadata": {
        "id": "HqrNk-T6UAe1"
      },
      "outputs": [],
      "source": [
        "m.layers[-1].visible = False\n",
        "m.add_raster(image, layer_name=\"Image\")\n",
        "m"
      ]
    },
    {
      "cell_type": "markdown",
      "metadata": {
        "id": "Gbv_q1hTUAe1"
      },
      "source": [
        "### Initialize SAM class\n",
        "\n",
        "Set `automatic=False` to enable the `SAM2ImagePredictor`."
      ]
    },
    {
      "cell_type": "code",
      "execution_count": null,
      "metadata": {
        "id": "MJXR_XwRUAe2"
      },
      "outputs": [],
      "source": [
        "sam = SamGeo2(\n",
        "    model_id=\"sam2-hiera-large\",\n",
        "    automatic=False,\n",
        ")"
      ]
    },
    {
      "cell_type": "markdown",
      "metadata": {
        "id": "X1EW8gGzUAe2"
      },
      "source": [
        "Specify the image to segment."
      ]
    },
    {
      "cell_type": "code",
      "execution_count": null,
      "metadata": {
        "id": "TmOqpfiBUAe2"
      },
      "outputs": [],
      "source": [
        "sam.set_image(image)"
      ]
    },
    {
      "cell_type": "markdown",
      "metadata": {
        "id": "btCGdnDKUAe2"
      },
      "source": [
        "Display the map. Use the drawing tools to draw some rectangles around the features you want to extract, such as trees, buildings."
      ]
    },
    {
      "cell_type": "code",
      "execution_count": null,
      "metadata": {
        "id": "KQ3L979AUAe3"
      },
      "outputs": [],
      "source": [
        "m"
      ]
    },
    {
      "cell_type": "markdown",
      "metadata": {
        "id": "kgrw26cqUAe3"
      },
      "source": [
        "### Create bounding boxes\n",
        "\n",
        "If no rectangles are drawn, the default bounding boxes will be used as follows:"
      ]
    },
    {
      "cell_type": "code",
      "execution_count": null,
      "metadata": {
        "id": "IqHL6p9yUAe3"
      },
      "outputs": [],
      "source": [
        "if m.user_rois is not None:\n",
        "    boxes = m.user_rois\n",
        "else:\n",
        "    boxes = [\n",
        "        [-117.5995, 47.6518, -117.5988, 47.652],\n",
        "        [-117.5987, 47.6518, -117.5979, 47.652],\n",
        "    ]"
      ]
    },
    {
      "cell_type": "markdown",
      "metadata": {
        "id": "AdQx6nfkUAe4"
      },
      "source": [
        "### Segment the image\n",
        "\n",
        "Use the `predict()` method to segment the image with specified bounding boxes. The `boxes` parameter accepts a list of bounding box coordinates in the format of [[left, bottom, right, top], [left, bottom, right, top], ...], a GeoJSON dictionary, or a file path to a GeoJSON file."
      ]
    },
    {
      "cell_type": "code",
      "execution_count": null,
      "metadata": {
        "id": "oSedfqnbUAe4"
      },
      "outputs": [],
      "source": [
        "sam.predict(boxes=boxes, point_crs=\"EPSG:4326\", output=\"mask.tif\", dtype=\"uint8\")"
      ]
    },
    {
      "cell_type": "markdown",
      "metadata": {
        "id": "6J29cOsqUAe4"
      },
      "source": [
        "### Display the result\n",
        "\n",
        "Add the segmented image to the map."
      ]
    },
    {
      "cell_type": "code",
      "execution_count": null,
      "metadata": {
        "id": "l1UYqM1kUAe4"
      },
      "outputs": [],
      "source": [
        "m.add_raster(\"mask.tif\", cmap=\"viridis\", nodata=0, layer_name=\"Mask\")\n",
        "m"
      ]
    },
    {
      "cell_type": "markdown",
      "metadata": {
        "id": "SavSEEr2UAe5"
      },
      "source": [
        "### Use an existing vector dataset as box prompts\n",
        "\n",
        "Alternatively, you can specify a file path to a vector dataset. Let's download a sample vector dataset from GitHub."
      ]
    },
    {
      "cell_type": "code",
      "execution_count": null,
      "metadata": {
        "id": "rIbJHiiXUAe5"
      },
      "outputs": [],
      "source": [
        "url = \"https://github.com/opengeos/datasets/releases/download/samgeo/building_bboxes.geojson\"\n",
        "geojson = \"building_bboxes.geojson\"\n",
        "leafmap.download_file(url, geojson)"
      ]
    },
    {
      "cell_type": "markdown",
      "metadata": {
        "id": "y2HNS6-lUAe5"
      },
      "source": [
        "Display the vector dataset on the map."
      ]
    },
    {
      "cell_type": "code",
      "execution_count": null,
      "metadata": {
        "id": "zgrv5VJdUAe5"
      },
      "outputs": [],
      "source": [
        "m = leafmap.Map()\n",
        "m.add_raster(image, layer_name=\"Image\")\n",
        "style = {\n",
        "    \"color\": \"#ffff00\",\n",
        "    \"weight\": 2,\n",
        "    \"fillColor\": \"#7c4185\",\n",
        "    \"fillOpacity\": 0,\n",
        "}\n",
        "m.add_vector(geojson, style=style, zoom_to_layer=True, layer_name=\"Bboxes\")\n",
        "m"
      ]
    },
    {
      "cell_type": "markdown",
      "metadata": {
        "id": "OI6WGyi4UAe5"
      },
      "source": [
        "![image](https://github.com/user-attachments/assets/95e8d2a5-9354-4694-b928-195a85bbb2e6)"
      ]
    },
    {
      "cell_type": "markdown",
      "metadata": {
        "id": "7_chPJSZUAe5"
      },
      "source": [
        "### Segment image with box prompts\n",
        "\n",
        "Segment the image using the specified file path to the vector mask."
      ]
    },
    {
      "cell_type": "code",
      "execution_count": null,
      "metadata": {
        "id": "ilNpghNrUAe5"
      },
      "outputs": [],
      "source": [
        "output_masks = \"building_masks.tif\""
      ]
    },
    {
      "cell_type": "code",
      "execution_count": null,
      "metadata": {
        "id": "KgNyEZxuUAe6"
      },
      "outputs": [],
      "source": [
        "sam.predict(\n",
        "    boxes=geojson,\n",
        "    point_crs=\"EPSG:4326\",\n",
        "    output=output_masks,\n",
        "    dtype=\"uint8\",\n",
        "    multimask_output=False,\n",
        ")"
      ]
    },
    {
      "cell_type": "markdown",
      "metadata": {
        "id": "l7RvHI9TUAe7"
      },
      "source": [
        "Display the segmented masks on the map."
      ]
    },
    {
      "cell_type": "code",
      "execution_count": null,
      "metadata": {
        "id": "vQrt5hx_UAe7"
      },
      "outputs": [],
      "source": [
        "m.add_raster(\n",
        "    output_masks, cmap=\"jet\", nodata=0, opacity=0.5, layer_name=\"Building masks\"\n",
        ")\n",
        "m"
      ]
    },
    {
      "cell_type": "markdown",
      "metadata": {
        "id": "NxZVcMj-UAe7"
      },
      "source": [
        "![image](https://github.com/user-attachments/assets/6f2d4f1f-dfc1-4dfa-8acb-642e1afb9c4a)"
      ]
    },
    {
      "cell_type": "markdown",
      "metadata": {
        "id": "3Uvnn1iYUAe7"
      },
      "source": [
        "### Convert raster to vector\n",
        "\n",
        "Convert the segmented masks to a vector format."
      ]
    },
    {
      "cell_type": "code",
      "execution_count": null,
      "metadata": {
        "id": "1QI8w_DCUAe7"
      },
      "outputs": [],
      "source": [
        "output_vector = \"building_vector.geojson\"\n",
        "raster_to_vector(output_masks, output_vector)"
      ]
    },
    {
      "cell_type": "markdown",
      "metadata": {
        "id": "F9rrzPqTUAe8"
      },
      "source": [
        "### Regularize building footprints\n",
        "\n",
        "Regularize the building footprints using the `regularize()` method."
      ]
    },
    {
      "cell_type": "code",
      "execution_count": null,
      "metadata": {
        "id": "77abfdtOUAe8"
      },
      "outputs": [],
      "source": [
        "output_regularized = \"building_regularized.geojson\"\n",
        "regularize(output_vector, output_regularized)"
      ]
    },
    {
      "cell_type": "markdown",
      "metadata": {
        "id": "gQGedQtFUAe8"
      },
      "source": [
        "Display the regularized building footprints on the map."
      ]
    },
    {
      "cell_type": "code",
      "execution_count": null,
      "metadata": {
        "id": "yHZQROcxUAe8"
      },
      "outputs": [],
      "source": [
        "m.add_vector(\n",
        "    output_regularized, style=style, layer_name=\"Building regularized\", info_mode=None\n",
        ")"
      ]
    },
    {
      "cell_type": "markdown",
      "metadata": {
        "id": "g7DqbqOeUAe8"
      },
      "source": [
        "![image](https://github.com/user-attachments/assets/c4b77056-9fd1-4ce8-9740-1b9d4f993040)\n",
        "\n",
        "## Image segmentation with text prompts\n",
        "\n",
        "In this section, we will demonstrate how to segment objects from remote sensing imagery using text prompts with the Segment Anything Model 2 (SAM 2).\n",
        "\n",
        "### Import libraries\n",
        "\n",
        "Import the required libraries, including [leafmap](https://leafmap.org) and [samgeo](https://samgeo.gishub.org)."
      ]
    },
    {
      "cell_type": "code",
      "execution_count": null,
      "metadata": {
        "id": "weAFtZnhUAe9"
      },
      "outputs": [],
      "source": [
        "import leafmap\n",
        "from samgeo.text_sam import LangSAM"
      ]
    },
    {
      "cell_type": "markdown",
      "metadata": {
        "id": "LpH6h6u6UAe9"
      },
      "source": [
        "### Create an interactive map\n",
        "\n",
        "Create an interactive map using leafmap."
      ]
    },
    {
      "cell_type": "code",
      "execution_count": null,
      "metadata": {
        "id": "NSug-20hUAe9"
      },
      "outputs": [],
      "source": [
        "m = leafmap.Map(center=[-22.17615, -51.253043], zoom=18, height=\"800px\")\n",
        "m.add_basemap(\"SATELLITE\")\n",
        "m"
      ]
    },
    {
      "cell_type": "markdown",
      "metadata": {
        "id": "lNrkKCuGUAe9"
      },
      "source": [
        "### Download a sample image\n",
        "\n",
        "Pan and zoom the map to select the area of interest. Use the draw tools to draw a polygon or rectangle on the map."
      ]
    },
    {
      "cell_type": "code",
      "execution_count": null,
      "metadata": {
        "id": "d_PqzJyfUAe-"
      },
      "outputs": [],
      "source": [
        "bbox = m.user_roi_bounds()\n",
        "if bbox is None:\n",
        "    bbox = [-51.2565, -22.1777, -51.2512, -22.175]"
      ]
    },
    {
      "cell_type": "markdown",
      "metadata": {
        "id": "Bf15jq89UAe-"
      },
      "source": [
        "Download the image within the selected region using `map_tiles_to_geotiff()` function."
      ]
    },
    {
      "cell_type": "code",
      "execution_count": null,
      "metadata": {
        "id": "Bk8rMZfBUAe-"
      },
      "outputs": [],
      "source": [
        "image = \"Image.tif\"\n",
        "leafmap.map_tiles_to_geotiff(\n",
        "    output=image, bbox=bbox, zoom=19, source=\"Satellite\", overwrite=True\n",
        ")"
      ]
    },
    {
      "cell_type": "markdown",
      "metadata": {
        "id": "IHZTmK5iUAe-"
      },
      "source": [
        "You can also use your own image. Uncomment and run the following cell to use your own image."
      ]
    },
    {
      "cell_type": "code",
      "execution_count": null,
      "metadata": {
        "id": "iKfc68IkUAe-"
      },
      "outputs": [],
      "source": [
        "# image = '/path/to/your/own/image.tif'"
      ]
    },
    {
      "cell_type": "markdown",
      "metadata": {
        "id": "v3vrM_ucUAe_"
      },
      "source": [
        "Display the downloaded image on the map."
      ]
    },
    {
      "cell_type": "code",
      "execution_count": null,
      "metadata": {
        "id": "HpU4MqAzUAe_"
      },
      "outputs": [],
      "source": [
        "m.layers[-1].visible = False\n",
        "m.add_raster(image, layer_name=\"Image\")\n",
        "m"
      ]
    },
    {
      "cell_type": "markdown",
      "metadata": {
        "id": "iL8AdGpNUAe_"
      },
      "source": [
        "### Initialize LangSAM class\n",
        "\n",
        "The initialization of the LangSAM class might take a few minutes. The initialization downloads the model weights and sets up the model for inference."
      ]
    },
    {
      "cell_type": "code",
      "execution_count": null,
      "metadata": {
        "id": "BIR3PQJSUAe_"
      },
      "outputs": [],
      "source": [
        "sam = LangSAM(model_type=\"sam2-hiera-large\")"
      ]
    },
    {
      "cell_type": "markdown",
      "metadata": {
        "id": "jLnJTaWoUAe_"
      },
      "source": [
        "### Specify text prompts\n",
        "\n",
        "Specify the text prompt to segment the objects in the image. The text prompt can be a single word or a phrase that describes the object you want to segment."
      ]
    },
    {
      "cell_type": "code",
      "execution_count": null,
      "metadata": {
        "id": "GPMgChvvUAe_"
      },
      "outputs": [],
      "source": [
        "text_prompt = \"tree\""
      ]
    },
    {
      "cell_type": "markdown",
      "metadata": {
        "id": "DoW35rZ2UAe_"
      },
      "source": [
        "### Segment the image\n",
        "\n",
        "Part of the model prediction includes setting appropriate thresholds for object detection and text association with the detected objects. These threshold values range from 0 to 1 and are set while calling the predict method of the LangSAM class.\n",
        "\n",
        "`box_threshold`: This value is used for object detection in the image. A higher value makes the model more selective, identifying only the most confident object instances, leading to fewer overall detections. A lower value, conversely, makes the model more tolerant, leading to increased detections, including potentially less confident ones.\n",
        "\n",
        "`text_threshold`: This value is used to associate the detected objects with the provided text prompt. A higher value requires a stronger association between the object and the text prompt, leading to more precise but potentially fewer associations. A lower value allows for looser associations, which could increase the number of associations but also introduce less precise matches.\n",
        "\n",
        "Remember to test different threshold values on your specific data. The optimal threshold can vary depending on the quality and nature of your images, as well as the specificity of your text prompts. Make sure to choose a balance that suits your requirements, whether that's precision or recall."
      ]
    },
    {
      "cell_type": "code",
      "execution_count": null,
      "metadata": {
        "id": "wafeRta4UAe_"
      },
      "outputs": [],
      "source": [
        "sam.predict(image, text_prompt, box_threshold=0.24, text_threshold=0.24)"
      ]
    },
    {
      "cell_type": "markdown",
      "metadata": {
        "id": "2R4ErCWuUAfA"
      },
      "source": [
        "### Visualize the results\n",
        "\n",
        "Show the result with bounding boxes on the map."
      ]
    },
    {
      "cell_type": "code",
      "execution_count": null,
      "metadata": {
        "id": "8SNBH9wfUAfA"
      },
      "outputs": [],
      "source": [
        "sam.show_anns(\n",
        "    cmap=\"Greens\",\n",
        "    box_color=\"red\",\n",
        "    title=\"Automatic Segmentation of Trees\",\n",
        "    blend=True,\n",
        ")"
      ]
    },
    {
      "cell_type": "markdown",
      "metadata": {
        "id": "y6KdMgQdUAfA"
      },
      "source": [
        "![image](https://github.com/user-attachments/assets/fd1a6a46-7fc6-45f5-8408-d648f2b5bbfe)"
      ]
    },
    {
      "cell_type": "markdown",
      "metadata": {
        "id": "4ZKh0kvNUAfA"
      },
      "source": [
        "Show the result without bounding boxes on the map."
      ]
    },
    {
      "cell_type": "code",
      "execution_count": null,
      "metadata": {
        "id": "Fni34ypSUAfA"
      },
      "outputs": [],
      "source": [
        "sam.show_anns(\n",
        "    cmap=\"Greens\",\n",
        "    add_boxes=False,\n",
        "    alpha=0.5,\n",
        "    title=\"Automatic Segmentation of Trees\",\n",
        ")"
      ]
    },
    {
      "cell_type": "markdown",
      "metadata": {
        "id": "RmAkyzGhUAfB"
      },
      "source": [
        "![image](https://github.com/user-attachments/assets/11843d0f-9caa-4e71-905f-17d363640cef)"
      ]
    },
    {
      "cell_type": "markdown",
      "metadata": {
        "id": "S1IC5IQRUAfB"
      },
      "source": [
        "Show the result as a grayscale image."
      ]
    },
    {
      "cell_type": "code",
      "execution_count": null,
      "metadata": {
        "id": "OWi9Oc3CUAfB"
      },
      "outputs": [],
      "source": [
        "sam.show_anns(\n",
        "    cmap=\"Greys_r\",\n",
        "    add_boxes=False,\n",
        "    alpha=1,\n",
        "    title=\"Automatic Segmentation of Trees\",\n",
        "    blend=False,\n",
        "    output=\"trees.tif\",\n",
        ")"
      ]
    },
    {
      "cell_type": "markdown",
      "metadata": {
        "id": "HVDWOGpCUAfC"
      },
      "source": [
        "![image](https://github.com/user-attachments/assets/2fb80bbf-4d07-401e-8a57-ccde74ae3115)"
      ]
    },
    {
      "cell_type": "markdown",
      "metadata": {
        "id": "r1MmR8yCUAfC"
      },
      "source": [
        "Convert the result to a vector format."
      ]
    },
    {
      "cell_type": "code",
      "execution_count": null,
      "metadata": {
        "id": "uWWOTp3sUAfC"
      },
      "outputs": [],
      "source": [
        "da, gdf = sam.region_groups(\n",
        "    image=\"trees.tif\",\n",
        "    min_size=100,\n",
        "    out_csv=\"objects.csv\",\n",
        "    out_image=\"objects.tif\",\n",
        "    out_vector=\"objects.gpkg\",\n",
        ")"
      ]
    },
    {
      "cell_type": "markdown",
      "metadata": {
        "id": "DewJ3j6vUAfC"
      },
      "source": [
        "Show the results on the interactive map."
      ]
    },
    {
      "cell_type": "code",
      "execution_count": null,
      "metadata": {
        "id": "U72vyy1nUAfC"
      },
      "outputs": [],
      "source": [
        "m.add_raster(\"objects.tif\", layer_name=\"Trees\", palette=\"Greens\", opacity=0.5, nodata=0)\n",
        "style = {\n",
        "    \"color\": \"#3388ff\",\n",
        "    \"weight\": 2,\n",
        "    \"fillColor\": \"#7c4185\",\n",
        "    \"fillOpacity\": 0.5,\n",
        "}\n",
        "m.add_vector(\"objects.gpkg\", layer_name=\"Vector\", style=style)\n",
        "m"
      ]
    },
    {
      "cell_type": "markdown",
      "metadata": {
        "id": "FB9AszOLUAfD"
      },
      "source": [
        "### Interactive segmentation"
      ]
    },
    {
      "cell_type": "code",
      "execution_count": null,
      "metadata": {
        "id": "Pqsypw4ZUAfD"
      },
      "outputs": [],
      "source": [
        "sam.show_map()"
      ]
    },
    {
      "cell_type": "markdown",
      "metadata": {
        "id": "jMcePiTnUAfD"
      },
      "source": [
        "![](https://i.imgur.com/wydt5Xt.gif)\n",
        "\n",
        "## Timeseries images segmentation\n",
        "\n",
        "### Import libraries\n",
        "\n",
        "Import the required libraries, including [leafmap](https://leafmap.org) and [samgeo](https://samgeo.gishub.org)."
      ]
    },
    {
      "cell_type": "code",
      "execution_count": null,
      "metadata": {
        "id": "7vnlgNKKUAfD"
      },
      "outputs": [],
      "source": [
        "import leafmap\n",
        "from samgeo import SamGeo2"
      ]
    },
    {
      "cell_type": "markdown",
      "metadata": {
        "id": "ey38831IUAfE"
      },
      "source": [
        "### Download sample data\n",
        "\n",
        "For now, SamGeo2 supports remote sensing data in the form of RGB images, 8-bit integer. Make sure all images are in the same width and height. Let's download a sample timeseries dataset from GitHub."
      ]
    },
    {
      "cell_type": "code",
      "execution_count": null,
      "metadata": {
        "id": "s1fNdKtHUAfE"
      },
      "outputs": [],
      "source": [
        "url = \"https://github.com/opengeos/datasets/releases/download/raster/landsat_ts.zip\"\n",
        "leafmap.download_file(url)"
      ]
    },
    {
      "cell_type": "markdown",
      "metadata": {
        "id": "gum4YFI-UAfE"
      },
      "source": [
        "### Initialize the model\n",
        "\n",
        "Initialize the SamGeo2 class with the model ID and set the `video` parameter to `True`."
      ]
    },
    {
      "cell_type": "code",
      "execution_count": null,
      "metadata": {
        "id": "kwQ4NGzJUAfE"
      },
      "outputs": [],
      "source": [
        "predictor = SamGeo2(\n",
        "    model_id=\"sam2-hiera-large\",\n",
        "    video=True,\n",
        ")"
      ]
    },
    {
      "cell_type": "markdown",
      "metadata": {
        "id": "Raa1zQXIUAfF"
      },
      "source": [
        "### Specify the input data\n",
        "\n",
        "Point to the directory containing the images or the video file."
      ]
    },
    {
      "cell_type": "code",
      "execution_count": null,
      "metadata": {
        "id": "BUW4_SV0UAfF"
      },
      "outputs": [],
      "source": [
        "video_path = \"landsat_ts\"\n",
        "predictor.set_video(video_path)"
      ]
    },
    {
      "cell_type": "markdown",
      "metadata": {
        "id": "1PYPkAryUAfF"
      },
      "source": [
        "### Specify the input prompts\n",
        "\n",
        "The prompts can be points and boxes. The points are represented as a list of tuples, where each tuple contains the x and y coordinates of the point. The boxes are represented as a list of tuples, where each tuple contains the x, y, width, and height of the box."
      ]
    },
    {
      "cell_type": "code",
      "execution_count": null,
      "metadata": {
        "id": "xerAd4w5UAfF"
      },
      "outputs": [],
      "source": [
        "predictor.show_images()"
      ]
    },
    {
      "cell_type": "code",
      "execution_count": null,
      "metadata": {
        "id": "oSWxXJ80UAfG"
      },
      "outputs": [],
      "source": [
        "prompts = {\n",
        "    1: {\n",
        "        \"points\": [[1582, 933], [1287, 905], [1473, 998]],\n",
        "        \"labels\": [1, 1, 1],\n",
        "        \"frame_idx\": 0,\n",
        "    },\n",
        "}"
      ]
    },
    {
      "cell_type": "code",
      "execution_count": null,
      "metadata": {
        "id": "VHRbUbJfUAfG"
      },
      "outputs": [],
      "source": [
        "predictor.show_prompts(prompts, frame_idx=0)"
      ]
    },
    {
      "cell_type": "markdown",
      "metadata": {
        "id": "GiwD5K4qUAfG"
      },
      "source": [
        "![image](https://github.com/user-attachments/assets/2290c685-5d08-4605-8859-ecc3d9986e8f)"
      ]
    },
    {
      "cell_type": "markdown",
      "metadata": {
        "id": "uee5bXqqUAfG"
      },
      "source": [
        "Althernatively, prompts can be provided in lon/lat coordinates. The model will automatically convert the lon/lat coordinates to pixel coordinates when the `point_crs` parameter is set to the coordinate reference system of the lon/lat coordinates."
      ]
    },
    {
      "cell_type": "code",
      "execution_count": null,
      "metadata": {
        "id": "erIXY5qAUAfH"
      },
      "outputs": [],
      "source": [
        "prompts = {\n",
        "    1: {\n",
        "        \"points\": [[-74.3713, -8.5218], [-74.2973, -8.5306], [-74.3230, -8.5495]],\n",
        "        \"labels\": [1, 1, 1],\n",
        "        \"frame_idx\": 0,\n",
        "    },\n",
        "}\n",
        "predictor.show_prompts(prompts, frame_idx=0, point_crs=\"EPSG:4326\")"
      ]
    },
    {
      "cell_type": "markdown",
      "metadata": {
        "id": "zJXR0pJ7UAfH"
      },
      "source": [
        "### Segment objects\n",
        "\n",
        "Segment the objects from the video or timeseries images."
      ]
    },
    {
      "cell_type": "code",
      "execution_count": null,
      "metadata": {
        "id": "6HeuyNiEUAfH"
      },
      "outputs": [],
      "source": [
        "predictor.predict_video()"
      ]
    },
    {
      "cell_type": "markdown",
      "metadata": {
        "id": "hcBWU-pWUAfI"
      },
      "source": [
        "### Save results\n",
        "\n",
        "To save the results as gray-scale GeoTIFFs with the same georeference as the input images:"
      ]
    },
    {
      "cell_type": "code",
      "execution_count": null,
      "metadata": {
        "id": "zcrh4BjTUAfI"
      },
      "outputs": [],
      "source": [
        "predictor.save_video_segments(\"segments\")"
      ]
    },
    {
      "cell_type": "markdown",
      "metadata": {
        "id": "0SwE7RhqUAfI"
      },
      "source": [
        "To save the results as blended images and MP4 video:"
      ]
    },
    {
      "cell_type": "code",
      "execution_count": null,
      "metadata": {
        "id": "RRgnGpjFUAfI"
      },
      "outputs": [],
      "source": [
        "predictor.save_video_segments_blended(\n",
        "    \"blended\", fps=5, output_video=\"segments_blended.mp4\"\n",
        ")"
      ]
    },
    {
      "cell_type": "markdown",
      "metadata": {
        "id": "1xUOorZGUAfI"
      },
      "source": [
        "![image](https://github.com/user-attachments/assets/111cada6-ada1-4785-8d37-385872bd7a4f)\n",
        "\n",
        "Preview the video."
      ]
    },
    {
      "cell_type": "code",
      "execution_count": null,
      "metadata": {
        "id": "lCMf25AaUAfJ"
      },
      "outputs": [],
      "source": [
        "from IPython.display import Video\n",
        "\n",
        "Video(\"segments_blended.mp4\", embed=True, width=600, height=400)"
      ]
    },
    {
      "cell_type": "markdown",
      "metadata": {
        "id": "q0WoImo6UAfJ"
      },
      "source": [
        "## Video segmentation\n",
        "\n",
        "In this section, we will demonstrate how to segment objects from a video using the Segment Anything Model 2 (SAM 2).\n",
        "\n",
        "### Import libraries\n",
        "\n",
        "Import the required libraries, including [leafmap](https://leafmap.org) and [samgeo](https://samgeo.gishub.org)."
      ]
    },
    {
      "cell_type": "code",
      "execution_count": null,
      "metadata": {
        "id": "UJyfL2UrUAfJ"
      },
      "outputs": [],
      "source": [
        "import leafmap\n",
        "from samgeo import SamGeo2"
      ]
    },
    {
      "cell_type": "markdown",
      "metadata": {
        "id": "fLm1fPzRUAfJ"
      },
      "source": [
        "### Initialize the model"
      ]
    },
    {
      "cell_type": "code",
      "execution_count": null,
      "metadata": {
        "id": "LhzrluLcUAfJ"
      },
      "outputs": [],
      "source": [
        "predictor = SamGeo2(\n",
        "    model_id=\"sam2-hiera-large\",\n",
        "    video=True,\n",
        ")"
      ]
    },
    {
      "cell_type": "markdown",
      "metadata": {
        "id": "MW0AeSwQUAfJ"
      },
      "source": [
        "### Specify the input data"
      ]
    },
    {
      "cell_type": "code",
      "execution_count": null,
      "metadata": {
        "id": "vYvp9ww6UAfJ"
      },
      "outputs": [],
      "source": [
        "url = \"https://github.com/opengeos/datasets/releases/download/videos/cars.mp4\""
      ]
    },
    {
      "cell_type": "code",
      "execution_count": null,
      "metadata": {
        "id": "rqbYkG9RUAfJ"
      },
      "outputs": [],
      "source": [
        "video_path = url\n",
        "predictor.set_video(video_path)"
      ]
    },
    {
      "cell_type": "markdown",
      "metadata": {
        "id": "W2ICwu5kUAfK"
      },
      "source": [
        "### Specify the input prompts"
      ]
    },
    {
      "cell_type": "code",
      "execution_count": null,
      "metadata": {
        "id": "CWZI2dtAUAfL"
      },
      "outputs": [],
      "source": [
        "predictor.show_images()"
      ]
    },
    {
      "cell_type": "code",
      "execution_count": null,
      "metadata": {
        "id": "tc2TtcnGUAfL"
      },
      "outputs": [],
      "source": [
        "prompts = {\n",
        "    1: {\n",
        "        \"points\": [[335, 203]],\n",
        "        \"labels\": [1],\n",
        "        \"frame_idx\": 0,\n",
        "    },\n",
        "    2: {\n",
        "        \"points\": [[420, 201]],\n",
        "        \"labels\": [1],\n",
        "        \"frame_idx\": 0,\n",
        "    },\n",
        "}"
      ]
    },
    {
      "cell_type": "code",
      "execution_count": null,
      "metadata": {
        "id": "B00EWgbLUAfL"
      },
      "outputs": [],
      "source": [
        "predictor.show_prompts(prompts, frame_idx=0)"
      ]
    },
    {
      "cell_type": "markdown",
      "metadata": {
        "id": "9ZqE1QICUAfL"
      },
      "source": [
        "![image](https://github.com/user-attachments/assets/5f55c814-2a86-45a0-b75c-84e2757b88d5)\n",
        "\n",
        "### Segment objects"
      ]
    },
    {
      "cell_type": "code",
      "execution_count": null,
      "metadata": {
        "id": "C8odpOB8UAfL"
      },
      "outputs": [],
      "source": [
        "predictor.predict_video(prompts)"
      ]
    },
    {
      "cell_type": "markdown",
      "metadata": {
        "id": "S8l_WZ3gUAfM"
      },
      "source": [
        "### Save results"
      ]
    },
    {
      "cell_type": "code",
      "execution_count": null,
      "metadata": {
        "id": "Jig5xbZPUAfM"
      },
      "outputs": [],
      "source": [
        "predictor.save_video_segments_blended(\"cars\", output_video=\"cars_blended.mp4\", fps=25)"
      ]
    },
    {
      "cell_type": "markdown",
      "metadata": {
        "id": "rE6fwpD6UAfM"
      },
      "source": [
        "![image](https://github.com/user-attachments/assets/ef5a0310-26d1-4d64-a880-73b1e5de42c9)\n",
        "\n",
        "Preview the video."
      ]
    },
    {
      "cell_type": "code",
      "execution_count": null,
      "metadata": {
        "id": "S0WZU3-5UAfN"
      },
      "outputs": [],
      "source": [
        "from IPython.display import Video\n",
        "\n",
        "Video(\"cars_blended.mp4\", embed=True, width=600, height=400)"
      ]
    }
  ],
  "metadata": {
    "kernelspec": {
      "display_name": "Python 3",
      "name": "python3"
    },
    "language_info": {
      "codemirror_mode": {
        "name": "ipython",
        "version": 3
      },
      "file_extension": ".py",
      "mimetype": "text/x-python",
      "name": "python",
      "nbconvert_exporter": "python",
      "pygments_lexer": "ipython3",
      "version": "3.12.8"
    },
    "colab": {
      "provenance": [],
      "gpuType": "T4"
    },
    "accelerator": "GPU"
  },
  "nbformat": 4,
  "nbformat_minor": 0
}